{
 "cells": [
  {
   "cell_type": "markdown",
   "metadata": {},
   "source": [
    "<div style=\"text-align: right\">Peter Norvig, 3 Oct 2015</div>\n",
    "\n",
    "# Probability, Paradox, and the Reasonable Person Principle\n",
    "Written and published by [Peter Norvig](https://en.wikipedia.org/wiki/Peter_Norvig). [Original](http://nbviewer.ipython.org/url/norvig.com/ipython/Probability.ipynb) Notebook used Python and *Julia Translater* (hence, *J.T.*) adapted it to Julia and possibly added mistakes.\n",
    "\n",
    "In this notebook, we cover the basics of probability theory, and show how to implement the theory in ~~Python~~ Julia. (You should have a little background in [probability](http://www.dartmouth.edu/~chance/teaching_aids/books_a\n",
    "rticles/probability_book/pdf.html) and [Julia](http://julialang.org/).) Then we show how to solve some particularly perplexing paradoxical probability problems.\n",
    "\n",
    "Over 200 years ago, Pierre-Simon Laplace [wrote](https://en.wikipedia.org/wiki/Classical_definition_of_\n",
    "probability):\n",
    "\n",
    "> The probability of an event is the ratio of the number of cases favorable to it, to the number of all cases possible, when [the cases are] equally possible. ... Probability is thus simply a fraction whose numerator is the number of favorable cases and whose denominator is the number of all the cases possible.\n",
    "\n",
    "Laplace really nailed it, way back then. If you want to untangle a probability problem (paradoxical or not), all you have to do is be methodical about defining exactly what the cases are, and then careful in counting the number of favorable and total cases. We'll start being methodical by defining terms:\n",
    "\n",
    "* **[Experiment](https://en.wikipedia.org/wiki/Experiment_(probability_theory%29):** An occurrence with an uncertain outcome that we can observe.  \n",
    "*For example, rolling a die.*\n",
    "* **[Outcome](https://en.wikipedia.org/wiki/Outcome):** The result of an experiment; one particular state of the world. Synonym for \"case.\"  \n",
    "*For example: `6`.*\n",
    "* **[Sample Space](https://en.wikipedia.org/wiki/Sample_space):** The set of all possible outcomes for the experiment. (For now, assume each outcome is equally likely.)  \n",
    "*For example, `{1, 2, 3, 4, 5, 6}`.*\n",
    "* **[Event](https://en.wikipedia.org/wiki/Event):** A subset of possible outcomes that together have some property we are interested in.  \n",
    "*For example, the event \"even die roll\" is the set of outcomes `{2, 4, 6}`.*\n",
    "* **[Probability](https://en.wikipedia.org/wiki/Probability_theory):** The number of possible outcomes in the event divided by the number in the sample space.  \n",
    "*For example, the probability of an even outcome from a six-sided die is `|{2, 4, 6}| / |{1, 2, 3, 4, 5, 6}| = 3/6 = 1/2`.*\n",
    "\n",
    "# Definition of `P` for Probability in Julia"
   ]
  },
  {
   "cell_type": "code",
   "execution_count": 1,
   "metadata": {
    "collapsed": true
   },
   "outputs": [],
   "source": [
    "\"The probability of an event, given a sample space of equiprobable outcomes.\"\n",
    "P(event, space) = length(event ∩ space)//length(space); "
   ]
  },
  {
   "cell_type": "markdown",
   "metadata": {},
   "source": [
    "Read this as *\"Probability is thus simply a fraction whose numerator is the number of favorable cases (outcomes in the intersection of the sample space and the event) and whose denominator is the number of all the cases possible (the sample space).\"* Note I use `//` division operator rather than regular division because I want exact answers like 1/3, not 0.3333333333333333.\n",
    "\n",
    "# Warm-up Problem: Die Roll\n",
    "\n",
    "Let's consider the experiment of rolling a single six-sided fair die. We'll call the sample space `D`:"
   ]
  },
  {
   "cell_type": "code",
   "execution_count": 2,
   "metadata": {
    "collapsed": true
   },
   "outputs": [],
   "source": [
    "D = Set([1, 2, 3, 4, 5, 6]) #;"
   ]
  },
  {
   "cell_type": "markdown",
   "metadata": {},
   "source": [
    "The probability of the event of \"*rolling an even number*\" can be calculated as follows:"
   ]
  },
  {
   "cell_type": "code",
   "execution_count": 3,
   "metadata": {
    "collapsed": false,
    "scrolled": false
   },
   "outputs": [
    {
     "data": {
      "text/plain": [
       "1//2"
      ]
     },
     "execution_count": 3,
     "metadata": {},
     "output_type": "execute_result"
    }
   ],
   "source": [
    "dice_even = Set([2, 4, 6])\n",
    "\n",
    "P(dice_even, D)"
   ]
  },
  {
   "cell_type": "markdown",
   "metadata": {},
   "source": [
    "But that's inelegant&mdash;I had to explicitly enumerate all the even numbers from one to six. If I ever wanted to deal with a different kind of die, say a twelve or twenty-sided die, I would have to go back and change the definition of `even`. I would prefer to define even numbers once and for all with a *predicate* (a function that returns True or False), if only `P` would accept that.\n",
    "\n",
    "# Revised Version of `P`, accepting a predicate for the event\n",
    "\n",
    "It would be great if we could specify an event as either a set of outcomes, or a predicate over outcomes. Let's make it so:"
   ]
  },
  {
   "cell_type": "code",
   "execution_count": 4,
   "metadata": {
    "collapsed": false
   },
   "outputs": [],
   "source": [
    "\"\"\"The probability of an event, given a sample space of equiprobable outcomes.\n",
    "event is a predicate (true for outcomes in the event).\"\"\"\n",
    "P(event::Function, space) = P(such_that(event, space),space) \n",
    "\n",
    "\"The subset of elements in the collection for which the predicate is true.\"\n",
    "such_that(predicate, collection) = filter(predicate, collection) #; "
   ]
  },
  {
   "cell_type": "markdown",
   "metadata": {},
   "source": [
    "[ *J.T.*: The convention in Julia is to output sets textually as they would be typed on the command prompt. This is a little terse, so we define a prettier `print` function for sets and use it when appropriate. In addition, we load some standard Julia packages with  functions we use later, and the PyPlot package for showing graphs. This may seem annoying, but it is actually reflects one of Julia's strengths: The 'core language' can be extended without prohibitative performance or syntax penalties ]."
   ]
  },
  {
   "cell_type": "code",
   "execution_count": 5,
   "metadata": {
    "collapsed": false
   },
   "outputs": [],
   "source": [
    "# In case these packages are not installed, the following will install them from the internet repositories:\n",
    "# Pkg.add(\"Formatting\"); Pkg.add(\"Iterators\"); Pkg.add(\"DataStructures\"); Pkg.add(\"DataArrays\");\n",
    "using Formatting\n",
    "using Iterators\n",
    "using DataStructures\n",
    "using DataArrays\n",
    "# Before `Pkg.add(\"PyPlot\")` python and matplotlib should be installed.\n",
    "# Other graphics packages (Winston, Gadfly, Vega) do not depend on python.\n",
    "using PyPlot\n",
    "\n",
    "\"\"\"prints set elements on one line, separated by commas and surrounded by curly braces.\"\"\"\n",
    "function pprintln(x::Set)\n",
    "    print(\"{\")\n",
    "    for (i,e) in enumerate(sort(collect(x)))\n",
    "        i==1 || print(\", \")\n",
    "        print(e)\n",
    "    end\n",
    "    println(\"}\")\n",
    "end #;"
   ]
  },
  {
   "cell_type": "markdown",
   "metadata": {},
   "source": [
    "[ *J.T.*: OK. Now, let's continue ]."
   ]
  },
  {
   "cell_type": "code",
   "execution_count": 6,
   "metadata": {
    "collapsed": false
   },
   "outputs": [
    {
     "name": "stdout",
     "output_type": "stream",
     "text": [
      "{2, 4, 6}\n"
     ]
    }
   ],
   "source": [
    "even(n) = ( mod(n,2) == 0 )\n",
    "\n",
    "pprintln(such_that(even, D))"
   ]
  },
  {
   "cell_type": "code",
   "execution_count": 7,
   "metadata": {
    "collapsed": false
   },
   "outputs": [
    {
     "data": {
      "text/plain": [
       "1//2"
      ]
     },
     "execution_count": 7,
     "metadata": {},
     "output_type": "execute_result"
    }
   ],
   "source": [
    "P(even, D)"
   ]
  },
  {
   "cell_type": "code",
   "execution_count": 8,
   "metadata": {
    "collapsed": false
   },
   "outputs": [
    {
     "name": "stdout",
     "output_type": "stream",
     "text": [
      "{2, 4, 6, 8, 10, 12}\n"
     ]
    }
   ],
   "source": [
    "D12 = Set([1, 2, 3, 4, 5, 6, 7, 8, 9, 10, 11, 12])\n",
    "\n",
    "pprintln(such_that(even, D12))"
   ]
  },
  {
   "cell_type": "code",
   "execution_count": 9,
   "metadata": {
    "collapsed": false
   },
   "outputs": [
    {
     "data": {
      "text/plain": [
       "1//2"
      ]
     },
     "execution_count": 9,
     "metadata": {},
     "output_type": "execute_result"
    }
   ],
   "source": [
    "P(even, D12)"
   ]
  },
  {
   "cell_type": "markdown",
   "metadata": {},
   "source": [
    "(Note: `such_that` is just like the built-in function filter).\n",
    "\n",
    "# The Two Child Paradoxes\n",
    "\n",
    "In 1959, [Martin Gardner](https://en.wikipedia.org/wiki/Martin_Gardner) [posed these two problems](https://en.wikipedia.org/wiki/Boy_or_Girl_paradox):\n",
    "\n",
    "* **Problem 1.** Mr. Jones has two children. The older child is a boy. What is the probability that both children are boys?\n",
    "\n",
    "* **Problem 2.** Mr. Smith has two children. At least one of them is a boy. What is the probability that both children are boys?\n",
    "\n",
    "And in 2010, Gary Foshee added this one:\n",
    "\n",
    "* **Problem 3.** I have two children. At least one of them is a boy born on Tuesday. What is the probability that both children are boys?\n",
    "\n",
    "Problems 2 and 3 are considered *paradoxes* because they have surprising answers that people argue about.\n",
    "\n",
    "(*Note:* Assume equiprobable outcomes; don't worry that actually 51% of births are male, etc.)\n",
    "\n",
    "## Problem 1: Older child is a boy. What is the probability both are boys?\n",
    "\n",
    "We use 'BG' to denote the outcome in which the older child is a boy and the younger a girl. The sample space, S, is:"
   ]
  },
  {
   "cell_type": "code",
   "execution_count": 10,
   "metadata": {
    "collapsed": false
   },
   "outputs": [],
   "source": [
    "S = Set([\"BG\", \"BB\", \"GB\", \"GG\"]) #;"
   ]
  },
  {
   "cell_type": "markdown",
   "metadata": {},
   "source": [
    "Let's define predicates for the conditions of having two boys, and of the older child being a boy:"
   ]
  },
  {
   "cell_type": "code",
   "execution_count": 11,
   "metadata": {
    "collapsed": false
   },
   "outputs": [],
   "source": [
    "two_boys(outcome) = (count(x->x=='B',outcome) == 2)\n",
    "\n",
    "older_is_a_boy(outcome) = startswith(outcome,'B') #;"
   ]
  },
  {
   "cell_type": "markdown",
   "metadata": {},
   "source": [
    "Now we can answer Problem 1:"
   ]
  },
  {
   "cell_type": "code",
   "execution_count": 12,
   "metadata": {
    "collapsed": false
   },
   "outputs": [
    {
     "data": {
      "text/plain": [
       "1//2"
      ]
     },
     "execution_count": 12,
     "metadata": {},
     "output_type": "execute_result"
    }
   ],
   "source": [
    "P(two_boys, such_that(older_is_a_boy, S))"
   ]
  },
  {
   "cell_type": "markdown",
   "metadata": {},
   "source": [
    "## Problem 2: At least one is a boy. What is the probability both are boys?\n",
    "\n",
    "Implementing this problem and finding the answer is easy:"
   ]
  },
  {
   "cell_type": "code",
   "execution_count": 13,
   "metadata": {
    "collapsed": false
   },
   "outputs": [],
   "source": [
    "at_least_one_boy(outcome) = 'B' in outcome #;"
   ]
  },
  {
   "cell_type": "code",
   "execution_count": 14,
   "metadata": {
    "collapsed": false
   },
   "outputs": [
    {
     "data": {
      "text/plain": [
       "1//3"
      ]
     },
     "execution_count": 14,
     "metadata": {},
     "output_type": "execute_result"
    }
   ],
   "source": [
    "P(two_boys, such_that(at_least_one_boy, S))"
   ]
  },
  {
   "cell_type": "markdown",
   "metadata": {},
   "source": [
    "Understanding the problem is tougher. Some people think the answer should be 1/2. Can we justify the answer 1/3? We can see there are three equiprobable outcomes in which there is at least one boy:"
   ]
  },
  {
   "cell_type": "code",
   "execution_count": 15,
   "metadata": {
    "collapsed": false
   },
   "outputs": [
    {
     "name": "stdout",
     "output_type": "stream",
     "text": [
      "{BB, BG, GB}\n"
     ]
    }
   ],
   "source": [
    "pprintln(such_that(at_least_one_boy, S))"
   ]
  },
  {
   "cell_type": "markdown",
   "metadata": {},
   "source": [
    "Of those three outcomes, only one has two boys, so the answer of 1/3 is indeed justified.\n",
    "\n",
    "But some people *still* think the answer should be 1/2. Their reasoning is *\"If one child is a boy, then there are two equiprobable outcomes for the other child, so the probability that the other child is a boy, and thus that there are two boys, is 1/2.\"*\n",
    "\n",
    "When two methods of reasoning give two different answers, we have a [paradox](https://en.wikipedia.org/wiki/Paradox). Here are three responses to a paradox:\n",
    "\n",
    "1. The very fundamentals of mathematics must be incomplete, and this problem reveals it!\n",
    "2. I'm right, and anyone who disagrees with me is an idiot!\n",
    "3. I have the right answer for one interpretation of the problem, and you have the right answer for a different interpretation of the problem.\n",
    "\n",
    "If you're [Bertrand Russell](https://en.wikipedia.org/wiki/Russell%27s_paradox) or [Georg Cantor](https://en.wikipedia.org/wiki/Cantor%27s_paradox), you might very well uncover a fundamental flaw in mathematics; for the rest of us, I recommend Response 3. When I believe the answer is 1/3, and I hear someone say the answer is 1/2, my response is *\"How interesting! They must have a different interpretation of the problem; I should try to discover what their interpretation is, and why their answer is correct.\"* First I explicitly describe my understanding of the experiment:\n",
    "\n",
    "* **Experiment 2a.** Mr. Smith is chosen at random from families with two children. He is asked if at least one of his children is a boy. He replies \"yes.\"\n",
    "Next I envision another possible interpretation of the experiment:\n",
    "\n",
    "* **Experiment 2b.** Mr. Smith is chosen at random from families with two children. He is observed at a time when he is accompanied by one of his children, chosen at random. The child is observed to be a boy.\n",
    "\n",
    "Experiment 2b needs a different sample space, which we will call S2b. It consists of 8 outcomes, not just 4; for each of the 4 outcomes in S, we have a choice of observing either the older child or the younger child. We will use the notation 'GB/g?' to mean that the older child is a girl, the younger a boy, the older child was observed to be a girl, and the younger was not observed. The sample space is therefore:"
   ]
  },
  {
   "cell_type": "code",
   "execution_count": 16,
   "metadata": {
    "collapsed": true
   },
   "outputs": [],
   "source": [
    "S2b = Set([\"BB/b?\", \"BB/?b\", \n",
    "           \"BG/b?\", \"BG/?g\", \n",
    "           \"GB/g?\", \"GB/?b\", \n",
    "           \"GG/g?\", \"GG/?g\"]) #;"
   ]
  },
  {
   "cell_type": "markdown",
   "metadata": {},
   "source": [
    "Now we can figure out the subset of this sample space in which we observe Mr. Smith with a boy:"
   ]
  },
  {
   "cell_type": "code",
   "execution_count": 17,
   "metadata": {
    "collapsed": false
   },
   "outputs": [
    {
     "name": "stdout",
     "output_type": "stream",
     "text": [
      "{BB/?b, BB/b?, BG/b?, GB/?b}\n"
     ]
    }
   ],
   "source": [
    "observed_boy(outcome) = 'b' in outcome\n",
    "\n",
    "pprintln(such_that(observed_boy, S2b))"
   ]
  },
  {
   "cell_type": "markdown",
   "metadata": {},
   "source": [
    "And finally we can determine the probability that he has two boys, given that we observed him with a boy:"
   ]
  },
  {
   "cell_type": "code",
   "execution_count": 18,
   "metadata": {
    "collapsed": false
   },
   "outputs": [
    {
     "data": {
      "text/plain": [
       "1//2"
      ]
     },
     "execution_count": 18,
     "metadata": {},
     "output_type": "execute_result"
    }
   ],
   "source": [
    "P(two_boys, such_that(observed_boy, S2b))"
   ]
  },
  {
   "cell_type": "markdown",
   "metadata": {},
   "source": [
    "The paradox is resolved. Two reasonable people can have different interpretations of the problem, and can each reason flawlessly to reach different conclusions, 1/3 or 1/2. Which interpretation is \"better?\" We could debate that, or we could just agree to use unambiguous problem descriptions (that is, use the language of Experiment 2a or Experiment 2b, not the ambiguous language of Problem 2).\n",
    "\n",
    "### The Reasonable Person Principle\n",
    "\n",
    "It is an unfortunate fact of human nature that we often assume the other person is an idiot. As [George Carlin puts it](https://www.youtube.com/watch?v=XWPCE2tTLZQ) *\"Have you ever noticed when you're driving that anybody driving slower than you is an idiot, and anyone going faster than you is a maniac?\"*\n",
    "\n",
    "The assumption that other people are more likely to be **reasonable** rather than **idiots** is known as the [reasonable person principle](http://www.cs.cmu.edu/~weigand/staff/). It is a guiding principle at Carnegie Mellon University's School of Computer Science, and is a principle I try to live by as well.\n",
    "\n",
    "Now let's return to an even more paradoxical problem.\n",
    "\n",
    "## Problem 3. One is a boy born on Tuesday. What's the probability both are boys?\n",
    "\n",
    "When Gary Foshee posed this problem, most people could not imagine how the boy's birth-day-of-week could be relevant, and felt the answer should be the same as Problem 2. But in order to tell for sure, we should clearly state what the experiment is, define the sample space, and calculate. First:\n",
    "\n",
    "* **Experiment 3a.** A parent is chosen at random from families with two children. She is asked if at least one of her children is a boy born on Tuesday. She replies \"yes.\"\n",
    "Next we'll define a sample space. We'll use the notation \"`G1B3`\" to mean the older child is a girl born on the first day of the week (Sunday) and the younger a boy born on the third day of the week (Tuesday). We'll call the resulting sample space `S3`."
   ]
  },
  {
   "cell_type": "code",
   "execution_count": 19,
   "metadata": {
    "collapsed": false
   },
   "outputs": [],
   "source": [
    "sexesdays = Set([\"$sex$day\" for sex in \"GB\",day in \"1234567\"])\n",
    "\n",
    "S3        = Set([\"$older$younger\" for older in sexesdays, younger in sexesdays]) #;"
   ]
  },
  {
   "cell_type": "code",
   "execution_count": 20,
   "metadata": {
    "collapsed": false
   },
   "outputs": [
    {
     "name": "stdout",
     "output_type": "stream",
     "text": [
      "{B1B1, B1B2, B1B3, B1B4, B1B5, B1B6, B1B7, B1G1, B1G2, B1G3, B1G4, B1G5, B1G6, B1G7, B2B1, B2B2, B2B3, B2B4, B2B5, B2B6, B2B7, B2G1, B2G2, B2G3, B2G4, B2G5, B2G6, B2G7, B3B1, B3B2, B3B3, B3B4, B3B5, B3B6, B3B7, B3G1, B3G2, B3G3, B3G4, B3G5, B3G6, B3G7, B4B1, B4B2, B4B3, B4B4, B4B5, B4B6, B4B7, B4G1, B4G2, B4G3, B4G4, B4G5, B4G6, B4G7, B5B1, B5B2, B5B3, B5B4, B5B5, B5B6, B5B7, B5G1, B5G2, B5G3, B5G4, B5G5, B5G6, B5G7, B6B1, B6B2, B6B3, B6B4, B6B5, B6B6, B6B7, B6G1, B6G2, B6G3, B6G4, B6G5, B6G6, B6G7, B7B1, B7B2, B7B3, B7B4, B7B5, B7B6, B7B7, B7G1, B7G2, B7G3, B7G4, B7G5, B7G6, B7G7, G1B1, G1B2, G1B3, G1B4, G1B5, G1B6, G1B7, G1G1, G1G2, G1G3, G1G4, G1G5, G1G6, G1G7, G2B1, G2B2, G2B3, G2B4, G2B5, G2B6, G2B7, G2G1, G2G2, G2G3, G2G4, G2G5, G2G6, G2G7, G3B1, G3B2, G3B3, G3B4, G3B5, G3B6, G3B7, G3G1, G3G2, G3G3, G3G4, G3G5, G3G6, G3G7, G4B1, G4B2, G4B3, G4B4, G4B5, G4B6, G4B7, G4G1, G4G2, G4G3, G4G4, G4G5, G4G6, G4G7, G5B1, G5B2, G5B3, G5B4, G5B5, G5B6, G5B7, G5G1, G5G2, G5G3, G5G4, G5G5, G5G6, G5G7, G6B1, G6B2, G6B3, G6B4, G6B5, G6B6, G6B7, G6G1, G6G2, G6G3, G6G4, G6G5, G6G6, G6G7, G7B1, G7B2, G7B3, G7B4, G7B5, G7B6, G7B7, G7G1, G7G2, G7G3, G7G4, G7G5, G7G6, G7G7}\n"
     ]
    }
   ],
   "source": [
    "assert(length(S3) == (2*7)^2 == 196)\n",
    "\n",
    "pprintln(S3)"
   ]
  },
  {
   "cell_type": "markdown",
   "metadata": {},
   "source": [
    "We determine below that the probability of having at least one boy is 3/4, both in `S3` and in `S`:"
   ]
  },
  {
   "cell_type": "code",
   "execution_count": 21,
   "metadata": {
    "collapsed": false
   },
   "outputs": [
    {
     "data": {
      "text/plain": [
       "3//4"
      ]
     },
     "execution_count": 21,
     "metadata": {},
     "output_type": "execute_result"
    }
   ],
   "source": [
    "P(at_least_one_boy, S3)"
   ]
  },
  {
   "cell_type": "code",
   "execution_count": 22,
   "metadata": {
    "collapsed": false
   },
   "outputs": [
    {
     "data": {
      "text/plain": [
       "3//4"
      ]
     },
     "execution_count": 22,
     "metadata": {},
     "output_type": "execute_result"
    }
   ],
   "source": [
    "P(at_least_one_boy, S)"
   ]
  },
  {
   "cell_type": "markdown",
   "metadata": {},
   "source": [
    "The probability of two boys is 1/4 in either sample space:"
   ]
  },
  {
   "cell_type": "code",
   "execution_count": 23,
   "metadata": {
    "collapsed": false
   },
   "outputs": [
    {
     "data": {
      "text/plain": [
       "1//4"
      ]
     },
     "execution_count": 23,
     "metadata": {},
     "output_type": "execute_result"
    }
   ],
   "source": [
    "P(two_boys, S3)"
   ]
  },
  {
   "cell_type": "code",
   "execution_count": 24,
   "metadata": {
    "collapsed": false
   },
   "outputs": [
    {
     "data": {
      "text/plain": [
       "1//4"
      ]
     },
     "execution_count": 24,
     "metadata": {},
     "output_type": "execute_result"
    }
   ],
   "source": [
    "P(two_boys, S)"
   ]
  },
  {
   "cell_type": "markdown",
   "metadata": {},
   "source": [
    "And the probability of two boys given at least one boy is 1/3 in either sample space:"
   ]
  },
  {
   "cell_type": "code",
   "execution_count": 25,
   "metadata": {
    "collapsed": false
   },
   "outputs": [
    {
     "data": {
      "text/plain": [
       "1//3"
      ]
     },
     "execution_count": 25,
     "metadata": {},
     "output_type": "execute_result"
    }
   ],
   "source": [
    "P(two_boys, such_that(at_least_one_boy, S3))"
   ]
  },
  {
   "cell_type": "code",
   "execution_count": 26,
   "metadata": {
    "collapsed": false
   },
   "outputs": [
    {
     "data": {
      "text/plain": [
       "1//3"
      ]
     },
     "execution_count": 26,
     "metadata": {},
     "output_type": "execute_result"
    }
   ],
   "source": [
    "P(two_boys, such_that(at_least_one_boy, S))"
   ]
  },
  {
   "cell_type": "markdown",
   "metadata": {},
   "source": [
    "We will define a predicate for the event of at least one boy born on Tuesday:"
   ]
  },
  {
   "cell_type": "code",
   "execution_count": 27,
   "metadata": {
    "collapsed": false
   },
   "outputs": [],
   "source": [
    "at_least_one_boy_tues(outcome) = contains(outcome,\"B3\") #;"
   ]
  },
  {
   "cell_type": "markdown",
   "metadata": {},
   "source": [
    "We are now ready to answer Problem 3:"
   ]
  },
  {
   "cell_type": "code",
   "execution_count": 28,
   "metadata": {
    "collapsed": false
   },
   "outputs": [
    {
     "data": {
      "text/plain": [
       "13//27"
      ]
     },
     "execution_count": 28,
     "metadata": {},
     "output_type": "execute_result"
    }
   ],
   "source": [
    "P(two_boys, such_that(at_least_one_boy_tues, S3))"
   ]
  },
  {
   "cell_type": "markdown",
   "metadata": {},
   "source": [
    "13/27 is quite different from 1/3 (but rather close to 1/2). So \"at least one boy born on Tuesday\" is quite different from \"at least one boy.\" Are you surprised? Do you accept the answer, or do you think we did something wrong? Are there other interpretations of the experiment that lead to other answers?\n",
    "\n",
    "Here is one alternative interpretation:\n",
    "\n",
    "* **Experiment 3b.** A parent is chosen at random from families with two children. She is observed at a time when she is accompanied by one of her children, chosen at random. The child is observed to be a boy who reports that his birth day is Tuesday.\n",
    "\n",
    "We can represent outcomes in this sample space with the notation `G1B3/??b3`, meaning the older child is a girl born on Sunday, the younger a boy born on Tuesday, the older was not observed, and the younger was."
   ]
  },
  {
   "cell_type": "code",
   "execution_count": 29,
   "metadata": {
    "collapsed": false
   },
   "outputs": [],
   "source": [
    "observed_boy_tues(outcome) = contains(outcome,\"b3\")\n",
    "\n",
    "S3b = Set([\"$older$younger/\" * ( observed==\"older\" ? lowercase(older)*\"??\" : \"??\"*lowercase(younger) )\n",
    "           for older in sexesdays, younger in sexesdays, observed in [\"older\",\"younger\"]]) #;"
   ]
  },
  {
   "cell_type": "markdown",
   "metadata": {},
   "source": [
    "Now we can answer this version of problem 3:"
   ]
  },
  {
   "cell_type": "code",
   "execution_count": 30,
   "metadata": {
    "collapsed": false
   },
   "outputs": [
    {
     "data": {
      "text/plain": [
       "1//2"
      ]
     },
     "execution_count": 30,
     "metadata": {},
     "output_type": "execute_result"
    }
   ],
   "source": [
    "P(two_boys, such_that(observed_boy_tues, S3b))"
   ]
  },
  {
   "cell_type": "markdown",
   "metadata": {},
   "source": [
    "So with the wording of Experiment 3b, the answer to problem 3 is the same as 2b.\n",
    "\n",
    "Still confused? Let's build a visualization tool to make things more concrete.\n",
    "\n",
    "## Visualization\n",
    "\n",
    "We'll display the results as a two dimensional table of outcomes, with each cell in the table is a color-coded outcome. A cell will be white if it does not satisfy the predicate we are working with; green if the outcome contains two boys; and yellow if it does satisfy the predicate, but does not have two boys. Every cell in a row has the same older child, and every cell in a column has the same younger child. Here's the code to display a table:"
   ]
  },
  {
   "cell_type": "code",
   "execution_count": 31,
   "metadata": {
    "collapsed": false
   },
   "outputs": [],
   "source": [
    "\"\"\"Display sample space in a table, color-coded: green if event and condition is true; \n",
    "yellow if only condition is true; white otherwise.\"\"\"\n",
    "function table(space, n=1, event=two_boys, condition=older_is_a_boy)\n",
    "    # n is the number of characters that make up the older child.\n",
    "    olders = sort(unique([outcome[1:n] for outcome in space]))\n",
    "    rows = join([row(older, space, event, condition) for older in olders])\n",
    "    prob = P(event, such_that(condition, space))\n",
    "    return HTML(\"<table>$rows</table>\"*string(prob))\n",
    "end\n",
    "\n",
    "\"\"\"Display a row where an older child is paired with each of the possible younger children.\"\"\"\n",
    "function row(older, space, event, condition)    \n",
    "    thisrow = sort(collect(filter(outcome->startswith(outcome,older),space)))\n",
    "    cells = join([cell(outcome, event, condition) for outcome in thisrow])\n",
    "    return \"<tr>$cells</tr>\"\n",
    "end\n",
    "                        \n",
    "\"\"\"Display outcome in appropriate color.\"\"\"\n",
    "function cell(outcome, event::Function, condition::Function)\n",
    "    color = condition(outcome) ? (event(outcome) ? \"lightgreen\" : \"yellow\") : \"ghostwhite\"\n",
    "    return \"<td style=\\\"background-color: $color\\\">$outcome</td>\"\n",
    "end #;"
   ]
  },
  {
   "cell_type": "markdown",
   "metadata": {},
   "source": [
    "We can use this visualization tool to see that in Problem 1, there is one outcome with two boys (green) out of a total of two outcomes where the older is a boy (green and yellow) so the probability of two boys given that the older is a boy is 1/2."
   ]
  },
  {
   "cell_type": "code",
   "execution_count": 32,
   "metadata": {
    "collapsed": false
   },
   "outputs": [
    {
     "data": {
      "text/html": [
       "<table><tr><td style=\"background-color: lightgreen\">BB</td><td style=\"background-color: yellow\">BG</td></tr><tr><td style=\"background-color: ghostwhite\">GB</td><td style=\"background-color: ghostwhite\">GG</td></tr></table>1//2"
      ],
      "text/plain": [
       "HTML{ASCIIString}(\"<table><tr><td style=\\\"background-color: lightgreen\\\">BB</td><td style=\\\"background-color: yellow\\\">BG</td></tr><tr><td style=\\\"background-color: ghostwhite\\\">GB</td><td style=\\\"background-color: ghostwhite\\\">GG</td></tr></table>1//2\")"
      ]
     },
     "execution_count": 32,
     "metadata": {},
     "output_type": "execute_result"
    }
   ],
   "source": [
    "# Problem 1\n",
    "table(S, 1, two_boys, older_is_a_boy)"
   ]
  },
  {
   "cell_type": "markdown",
   "metadata": {},
   "source": [
    "For Problem 2, we see the probability of two boys (green) given at least one boy (green and yellow) is 1/3."
   ]
  },
  {
   "cell_type": "code",
   "execution_count": 33,
   "metadata": {
    "collapsed": false
   },
   "outputs": [
    {
     "data": {
      "text/html": [
       "<table><tr><td style=\"background-color: lightgreen\">BB</td><td style=\"background-color: yellow\">BG</td></tr><tr><td style=\"background-color: yellow\">GB</td><td style=\"background-color: ghostwhite\">GG</td></tr></table>1//3"
      ],
      "text/plain": [
       "HTML{ASCIIString}(\"<table><tr><td style=\\\"background-color: lightgreen\\\">BB</td><td style=\\\"background-color: yellow\\\">BG</td></tr><tr><td style=\\\"background-color: yellow\\\">GB</td><td style=\\\"background-color: ghostwhite\\\">GG</td></tr></table>1//3\")"
      ]
     },
     "execution_count": 33,
     "metadata": {},
     "output_type": "execute_result"
    }
   ],
   "source": [
    "# Problem 2\n",
    "table(S, 1, two_boys, at_least_one_boy)"
   ]
  },
  {
   "cell_type": "markdown",
   "metadata": {},
   "source": [
    "The answer is still 1/3 when we consider the day of the week of each birth. (We've just made each cell \"bigger\" by enumerating all the days-of-week.)"
   ]
  },
  {
   "cell_type": "code",
   "execution_count": 34,
   "metadata": {
    "collapsed": false
   },
   "outputs": [
    {
     "data": {
      "text/html": [
       "<table><tr><td style=\"background-color: lightgreen\">B1B1</td><td style=\"background-color: lightgreen\">B1B2</td><td style=\"background-color: lightgreen\">B1B3</td><td style=\"background-color: lightgreen\">B1B4</td><td style=\"background-color: lightgreen\">B1B5</td><td style=\"background-color: lightgreen\">B1B6</td><td style=\"background-color: lightgreen\">B1B7</td><td style=\"background-color: yellow\">B1G1</td><td style=\"background-color: yellow\">B1G2</td><td style=\"background-color: yellow\">B1G3</td><td style=\"background-color: yellow\">B1G4</td><td style=\"background-color: yellow\">B1G5</td><td style=\"background-color: yellow\">B1G6</td><td style=\"background-color: yellow\">B1G7</td></tr><tr><td style=\"background-color: lightgreen\">B2B1</td><td style=\"background-color: lightgreen\">B2B2</td><td style=\"background-color: lightgreen\">B2B3</td><td style=\"background-color: lightgreen\">B2B4</td><td style=\"background-color: lightgreen\">B2B5</td><td style=\"background-color: lightgreen\">B2B6</td><td style=\"background-color: lightgreen\">B2B7</td><td style=\"background-color: yellow\">B2G1</td><td style=\"background-color: yellow\">B2G2</td><td style=\"background-color: yellow\">B2G3</td><td style=\"background-color: yellow\">B2G4</td><td style=\"background-color: yellow\">B2G5</td><td style=\"background-color: yellow\">B2G6</td><td style=\"background-color: yellow\">B2G7</td></tr><tr><td style=\"background-color: lightgreen\">B3B1</td><td style=\"background-color: lightgreen\">B3B2</td><td style=\"background-color: lightgreen\">B3B3</td><td style=\"background-color: lightgreen\">B3B4</td><td style=\"background-color: lightgreen\">B3B5</td><td style=\"background-color: lightgreen\">B3B6</td><td style=\"background-color: lightgreen\">B3B7</td><td style=\"background-color: yellow\">B3G1</td><td style=\"background-color: yellow\">B3G2</td><td style=\"background-color: yellow\">B3G3</td><td style=\"background-color: yellow\">B3G4</td><td style=\"background-color: yellow\">B3G5</td><td style=\"background-color: yellow\">B3G6</td><td style=\"background-color: yellow\">B3G7</td></tr><tr><td style=\"background-color: lightgreen\">B4B1</td><td style=\"background-color: lightgreen\">B4B2</td><td style=\"background-color: lightgreen\">B4B3</td><td style=\"background-color: lightgreen\">B4B4</td><td style=\"background-color: lightgreen\">B4B5</td><td style=\"background-color: lightgreen\">B4B6</td><td style=\"background-color: lightgreen\">B4B7</td><td style=\"background-color: yellow\">B4G1</td><td style=\"background-color: yellow\">B4G2</td><td style=\"background-color: yellow\">B4G3</td><td style=\"background-color: yellow\">B4G4</td><td style=\"background-color: yellow\">B4G5</td><td style=\"background-color: yellow\">B4G6</td><td style=\"background-color: yellow\">B4G7</td></tr><tr><td style=\"background-color: lightgreen\">B5B1</td><td style=\"background-color: lightgreen\">B5B2</td><td style=\"background-color: lightgreen\">B5B3</td><td style=\"background-color: lightgreen\">B5B4</td><td style=\"background-color: lightgreen\">B5B5</td><td style=\"background-color: lightgreen\">B5B6</td><td style=\"background-color: lightgreen\">B5B7</td><td style=\"background-color: yellow\">B5G1</td><td style=\"background-color: yellow\">B5G2</td><td style=\"background-color: yellow\">B5G3</td><td style=\"background-color: yellow\">B5G4</td><td style=\"background-color: yellow\">B5G5</td><td style=\"background-color: yellow\">B5G6</td><td style=\"background-color: yellow\">B5G7</td></tr><tr><td style=\"background-color: lightgreen\">B6B1</td><td style=\"background-color: lightgreen\">B6B2</td><td style=\"background-color: lightgreen\">B6B3</td><td style=\"background-color: lightgreen\">B6B4</td><td style=\"background-color: lightgreen\">B6B5</td><td style=\"background-color: lightgreen\">B6B6</td><td style=\"background-color: lightgreen\">B6B7</td><td style=\"background-color: yellow\">B6G1</td><td style=\"background-color: yellow\">B6G2</td><td style=\"background-color: yellow\">B6G3</td><td style=\"background-color: yellow\">B6G4</td><td style=\"background-color: yellow\">B6G5</td><td style=\"background-color: yellow\">B6G6</td><td style=\"background-color: yellow\">B6G7</td></tr><tr><td style=\"background-color: lightgreen\">B7B1</td><td style=\"background-color: lightgreen\">B7B2</td><td style=\"background-color: lightgreen\">B7B3</td><td style=\"background-color: lightgreen\">B7B4</td><td style=\"background-color: lightgreen\">B7B5</td><td style=\"background-color: lightgreen\">B7B6</td><td style=\"background-color: lightgreen\">B7B7</td><td style=\"background-color: yellow\">B7G1</td><td style=\"background-color: yellow\">B7G2</td><td style=\"background-color: yellow\">B7G3</td><td style=\"background-color: yellow\">B7G4</td><td style=\"background-color: yellow\">B7G5</td><td style=\"background-color: yellow\">B7G6</td><td style=\"background-color: yellow\">B7G7</td></tr><tr><td style=\"background-color: yellow\">G1B1</td><td style=\"background-color: yellow\">G1B2</td><td style=\"background-color: yellow\">G1B3</td><td style=\"background-color: yellow\">G1B4</td><td style=\"background-color: yellow\">G1B5</td><td style=\"background-color: yellow\">G1B6</td><td style=\"background-color: yellow\">G1B7</td><td style=\"background-color: ghostwhite\">G1G1</td><td style=\"background-color: ghostwhite\">G1G2</td><td style=\"background-color: ghostwhite\">G1G3</td><td style=\"background-color: ghostwhite\">G1G4</td><td style=\"background-color: ghostwhite\">G1G5</td><td style=\"background-color: ghostwhite\">G1G6</td><td style=\"background-color: ghostwhite\">G1G7</td></tr><tr><td style=\"background-color: yellow\">G2B1</td><td style=\"background-color: yellow\">G2B2</td><td style=\"background-color: yellow\">G2B3</td><td style=\"background-color: yellow\">G2B4</td><td style=\"background-color: yellow\">G2B5</td><td style=\"background-color: yellow\">G2B6</td><td style=\"background-color: yellow\">G2B7</td><td style=\"background-color: ghostwhite\">G2G1</td><td style=\"background-color: ghostwhite\">G2G2</td><td style=\"background-color: ghostwhite\">G2G3</td><td style=\"background-color: ghostwhite\">G2G4</td><td style=\"background-color: ghostwhite\">G2G5</td><td style=\"background-color: ghostwhite\">G2G6</td><td style=\"background-color: ghostwhite\">G2G7</td></tr><tr><td style=\"background-color: yellow\">G3B1</td><td style=\"background-color: yellow\">G3B2</td><td style=\"background-color: yellow\">G3B3</td><td style=\"background-color: yellow\">G3B4</td><td style=\"background-color: yellow\">G3B5</td><td style=\"background-color: yellow\">G3B6</td><td style=\"background-color: yellow\">G3B7</td><td style=\"background-color: ghostwhite\">G3G1</td><td style=\"background-color: ghostwhite\">G3G2</td><td style=\"background-color: ghostwhite\">G3G3</td><td style=\"background-color: ghostwhite\">G3G4</td><td style=\"background-color: ghostwhite\">G3G5</td><td style=\"background-color: ghostwhite\">G3G6</td><td style=\"background-color: ghostwhite\">G3G7</td></tr><tr><td style=\"background-color: yellow\">G4B1</td><td style=\"background-color: yellow\">G4B2</td><td style=\"background-color: yellow\">G4B3</td><td style=\"background-color: yellow\">G4B4</td><td style=\"background-color: yellow\">G4B5</td><td style=\"background-color: yellow\">G4B6</td><td style=\"background-color: yellow\">G4B7</td><td style=\"background-color: ghostwhite\">G4G1</td><td style=\"background-color: ghostwhite\">G4G2</td><td style=\"background-color: ghostwhite\">G4G3</td><td style=\"background-color: ghostwhite\">G4G4</td><td style=\"background-color: ghostwhite\">G4G5</td><td style=\"background-color: ghostwhite\">G4G6</td><td style=\"background-color: ghostwhite\">G4G7</td></tr><tr><td style=\"background-color: yellow\">G5B1</td><td style=\"background-color: yellow\">G5B2</td><td style=\"background-color: yellow\">G5B3</td><td style=\"background-color: yellow\">G5B4</td><td style=\"background-color: yellow\">G5B5</td><td style=\"background-color: yellow\">G5B6</td><td style=\"background-color: yellow\">G5B7</td><td style=\"background-color: ghostwhite\">G5G1</td><td style=\"background-color: ghostwhite\">G5G2</td><td style=\"background-color: ghostwhite\">G5G3</td><td style=\"background-color: ghostwhite\">G5G4</td><td style=\"background-color: ghostwhite\">G5G5</td><td style=\"background-color: ghostwhite\">G5G6</td><td style=\"background-color: ghostwhite\">G5G7</td></tr><tr><td style=\"background-color: yellow\">G6B1</td><td style=\"background-color: yellow\">G6B2</td><td style=\"background-color: yellow\">G6B3</td><td style=\"background-color: yellow\">G6B4</td><td style=\"background-color: yellow\">G6B5</td><td style=\"background-color: yellow\">G6B6</td><td style=\"background-color: yellow\">G6B7</td><td style=\"background-color: ghostwhite\">G6G1</td><td style=\"background-color: ghostwhite\">G6G2</td><td style=\"background-color: ghostwhite\">G6G3</td><td style=\"background-color: ghostwhite\">G6G4</td><td style=\"background-color: ghostwhite\">G6G5</td><td style=\"background-color: ghostwhite\">G6G6</td><td style=\"background-color: ghostwhite\">G6G7</td></tr><tr><td style=\"background-color: yellow\">G7B1</td><td style=\"background-color: yellow\">G7B2</td><td style=\"background-color: yellow\">G7B3</td><td style=\"background-color: yellow\">G7B4</td><td style=\"background-color: yellow\">G7B5</td><td style=\"background-color: yellow\">G7B6</td><td style=\"background-color: yellow\">G7B7</td><td style=\"background-color: ghostwhite\">G7G1</td><td style=\"background-color: ghostwhite\">G7G2</td><td style=\"background-color: ghostwhite\">G7G3</td><td style=\"background-color: ghostwhite\">G7G4</td><td style=\"background-color: ghostwhite\">G7G5</td><td style=\"background-color: ghostwhite\">G7G6</td><td style=\"background-color: ghostwhite\">G7G7</td></tr></table>1//3"
      ],
      "text/plain": [
       "HTML{ASCIIString}(\"<table><tr><td style=\\\"background-color: lightgreen\\\">B1B1</td><td style=\\\"background-color: lightgreen\\\">B1B2</td><td style=\\\"background-color: lightgreen\\\">B1B3</td><td style=\\\"background-color: lightgreen\\\">B1B4</td><td style=\\\"background-color: lightgreen\\\">B1B5</td><td style=\\\"background-color: lightgreen\\\">B1B6</td><td style=\\\"background-color: lightgreen\\\">B1B7</td><td style=\\\"background-color: yellow\\\">B1G1</td><td style=\\\"background-color: yellow\\\">B1G2</td><td style=\\\"background-color: yellow\\\">B1G3</td><td style=\\\"background-color: yellow\\\">B1G4</td><td style=\\\"background-color: yellow\\\">B1G5</td><td style=\\\"background-color: yellow\\\">B1G6</td><td style=\\\"background-color: yellow\\\">B1G7</td></tr><tr><td style=\\\"background-color: lightgreen\\\">B2B1</td><td style=\\\"background-color: lightgreen\\\">B2B2</td><td style=\\\"background-color: lightgreen\\\">B2B3</td><td style=\\\"background-color: lightgreen\\\">B2B4</td><td style=\\\"background-color: lightgreen\\\">B2B5</td><td style=\\\"background-color: lightgreen\\\">B2B6</td><td style=\\\"background-color: lightgreen\\\">B2B7</td><td style=\\\"background-color: yellow\\\">B2G1</td><td style=\\\"background-color: yellow\\\">B2G2</td><td style=\\\"background-color: yellow\\\">B2G3</td><td style=\\\"background-color: yellow\\\">B2G4</td><td style=\\\"background-color: yellow\\\">B2G5</td><td style=\\\"background-color: yellow\\\">B2G6</td><td style=\\\"background-color: yellow\\\">B2G7</td></tr><tr><td style=\\\"background-color: lightgreen\\\">B3B1</td><td style=\\\"background-color: lightgreen\\\">B3B2</td><td style=\\\"background-color: lightgreen\\\">B3B3</td><td style=\\\"background-color: lightgreen\\\">B3B4</td><td style=\\\"background-color: lightgreen\\\">B3B5</td><td style=\\\"background-color: lightgreen\\\">B3B6</td><td style=\\\"background-color: lightgreen\\\">B3B7</td><td style=\\\"background-color: yellow\\\">B3G1</td><td style=\\\"background-color: yellow\\\">B3G2</td><td style=\\\"background-color: yellow\\\">B3G3</td><td style=\\\"background-color: yellow\\\">B3G4</td><td style=\\\"background-color: yellow\\\">B3G5</td><td style=\\\"background-color: yellow\\\">B3G6</td><td style=\\\"background-color: yellow\\\">B3G7</td></tr><tr><td style=\\\"background-color: lightgreen\\\">B4B1</td><td style=\\\"background-color: lightgreen\\\">B4B2</td><td style=\\\"background-color: lightgreen\\\">B4B3</td><td style=\\\"background-color: lightgreen\\\">B4B4</td><td style=\\\"background-color: lightgreen\\\">B4B5</td><td style=\\\"background-color: lightgreen\\\">B4B6</td><td style=\\\"background-color: lightgreen\\\">B4B7</td><td style=\\\"background-color: yellow\\\">B4G1</td><td style=\\\"background-color: yellow\\\">B4G2</td><td style=\\\"background-color: yellow\\\">B4G3</td><td style=\\\"background-color: yellow\\\">B4G4</td><td style=\\\"background-color: yellow\\\">B4G5</td><td style=\\\"background-color: yellow\\\">B4G6</td><td style=\\\"background-color: yellow\\\">B4G7</td></tr><tr><td style=\\\"background-color: lightgreen\\\">B5B1</td><td style=\\\"background-color: lightgreen\\\">B5B2</td><td style=\\\"background-color: lightgreen\\\">B5B3</td><td style=\\\"background-color: lightgreen\\\">B5B4</td><td style=\\\"background-color: lightgreen\\\">B5B5</td><td style=\\\"background-color: lightgreen\\\">B5B6</td><td style=\\\"background-color: lightgreen\\\">B5B7</td><td style=\\\"background-color: yellow\\\">B5G1</td><td style=\\\"background-color: yellow\\\">B5G2</td><td style=\\\"background-color: yellow\\\">B5G3</td><td style=\\\"background-color: yellow\\\">B5G4</td><td style=\\\"background-color: yellow\\\">B5G5</td><td style=\\\"background-color: yellow\\\">B5G6</td><td style=\\\"background-color: yellow\\\">B5G7</td></tr><tr><td style=\\\"background-color: lightgreen\\\">B6B1</td><td style=\\\"background-color: lightgreen\\\">B6B2</td><td style=\\\"background-color: lightgreen\\\">B6B3</td><td style=\\\"background-color: lightgreen\\\">B6B4</td><td style=\\\"background-color: lightgreen\\\">B6B5</td><td style=\\\"background-color: lightgreen\\\">B6B6</td><td style=\\\"background-color: lightgreen\\\">B6B7</td><td style=\\\"background-color: yellow\\\">B6G1</td><td style=\\\"background-color: yellow\\\">B6G2</td><td style=\\\"background-color: yellow\\\">B6G3</td><td style=\\\"background-color: yellow\\\">B6G4</td><td style=\\\"background-color: yellow\\\">B6G5</td><td style=\\\"background-color: yellow\\\">B6G6</td><td style=\\\"background-color: yellow\\\">B6G7</td></tr><tr><td style=\\\"background-color: lightgreen\\\">B7B1</td><td style=\\\"background-color: lightgreen\\\">B7B2</td><td style=\\\"background-color: lightgreen\\\">B7B3</td><td style=\\\"background-color: lightgreen\\\">B7B4</td><td style=\\\"background-color: lightgreen\\\">B7B5</td><td style=\\\"background-color: lightgreen\\\">B7B6</td><td style=\\\"background-color: lightgreen\\\">B7B7</td><td style=\\\"background-color: yellow\\\">B7G1</td><td style=\\\"background-color: yellow\\\">B7G2</td><td style=\\\"background-color: yellow\\\">B7G3</td><td style=\\\"background-color: yellow\\\">B7G4</td><td style=\\\"background-color: yellow\\\">B7G5</td><td style=\\\"background-color: yellow\\\">B7G6</td><td style=\\\"background-color: yellow\\\">B7G7</td></tr><tr><td style=\\\"background-color: yellow\\\">G1B1</td><td style=\\\"background-color: yellow\\\">G1B2</td><td style=\\\"background-color: yellow\\\">G1B3</td><td style=\\\"background-color: yellow\\\">G1B4</td><td style=\\\"background-color: yellow\\\">G1B5</td><td style=\\\"background-color: yellow\\\">G1B6</td><td style=\\\"background-color: yellow\\\">G1B7</td><td style=\\\"background-color: ghostwhite\\\">G1G1</td><td style=\\\"background-color: ghostwhite\\\">G1G2</td><td style=\\\"background-color: ghostwhite\\\">G1G3</td><td style=\\\"background-color: ghostwhite\\\">G1G4</td><td style=\\\"background-color: ghostwhite\\\">G1G5</td><td style=\\\"background-color: ghostwhite\\\">G1G6</td><td style=\\\"background-color: ghostwhite\\\">G1G7</td></tr><tr><td style=\\\"background-color: yellow\\\">G2B1</td><td style=\\\"background-color: yellow\\\">G2B2</td><td style=\\\"background-color: yellow\\\">G2B3</td><td style=\\\"background-color: yellow\\\">G2B4</td><td style=\\\"background-color: yellow\\\">G2B5</td><td style=\\\"background-color: yellow\\\">G2B6</td><td style=\\\"background-color: yellow\\\">G2B7</td><td style=\\\"background-color: ghostwhite\\\">G2G1</td><td style=\\\"background-color: ghostwhite\\\">G2G2</td><td style=\\\"background-color: ghostwhite\\\">G2G3</td><td style=\\\"background-color: ghostwhite\\\">G2G4</td><td style=\\\"background-color: ghostwhite\\\">G2G5</td><td style=\\\"background-color: ghostwhite\\\">G2G6</td><td style=\\\"background-color: ghostwhite\\\">G2G7</td></tr><tr><td style=\\\"background-color: yellow\\\">G3B1</td><td style=\\\"background-color: yellow\\\">G3B2</td><td style=\\\"background-color: yellow\\\">G3B3</td><td style=\\\"background-color: yellow\\\">G3B4</td><td style=\\\"background-color: yellow\\\">G3B5</td><td style=\\\"background-color: yellow\\\">G3B6</td><td style=\\\"background-color: yellow\\\">G3B7</td><td style=\\\"background-color: ghostwhite\\\">G3G1</td><td style=\\\"background-color: ghostwhite\\\">G3G2</td><td style=\\\"background-color: ghostwhite\\\">G3G3</td><td style=\\\"background-color: ghostwhite\\\">G3G4</td><td style=\\\"background-color: ghostwhite\\\">G3G5</td><td style=\\\"background-color: ghostwhite\\\">G3G6</td><td style=\\\"background-color: ghostwhite\\\">G3G7</td></tr><tr><td style=\\\"background-color: yellow\\\">G4B1</td><td style=\\\"background-color: yellow\\\">G4B2</td><td style=\\\"background-color: yellow\\\">G4B3</td><td style=\\\"background-color: yellow\\\">G4B4</td><td style=\\\"background-color: yellow\\\">G4B5</td><td style=\\\"background-color: yellow\\\">G4B6</td><td style=\\\"background-color: yellow\\\">G4B7</td><td style=\\\"background-color: ghostwhite\\\">G4G1</td><td style=\\\"background-color: ghostwhite\\\">G4G2</td><td style=\\\"background-color: ghostwhite\\\">G4G3</td><td style=\\\"background-color: ghostwhite\\\">G4G4</td><td style=\\\"background-color: ghostwhite\\\">G4G5</td><td style=\\\"background-color: ghostwhite\\\">G4G6</td><td style=\\\"background-color: ghostwhite\\\">G4G7</td></tr><tr><td style=\\\"background-color: yellow\\\">G5B1</td><td style=\\\"background-color: yellow\\\">G5B2</td><td style=\\\"background-color: yellow\\\">G5B3</td><td style=\\\"background-color: yellow\\\">G5B4</td><td style=\\\"background-color: yellow\\\">G5B5</td><td style=\\\"background-color: yellow\\\">G5B6</td><td style=\\\"background-color: yellow\\\">G5B7</td><td style=\\\"background-color: ghostwhite\\\">G5G1</td><td style=\\\"background-color: ghostwhite\\\">G5G2</td><td style=\\\"background-color: ghostwhite\\\">G5G3</td><td style=\\\"background-color: ghostwhite\\\">G5G4</td><td style=\\\"background-color: ghostwhite\\\">G5G5</td><td style=\\\"background-color: ghostwhite\\\">G5G6</td><td style=\\\"background-color: ghostwhite\\\">G5G7</td></tr><tr><td style=\\\"background-color: yellow\\\">G6B1</td><td style=\\\"background-color: yellow\\\">G6B2</td><td style=\\\"background-color: yellow\\\">G6B3</td><td style=\\\"background-color: yellow\\\">G6B4</td><td style=\\\"background-color: yellow\\\">G6B5</td><td style=\\\"background-color: yellow\\\">G6B6</td><td style=\\\"background-color: yellow\\\">G6B7</td><td style=\\\"background-color: ghostwhite\\\">G6G1</td><td style=\\\"background-color: ghostwhite\\\">G6G2</td><td style=\\\"background-color: ghostwhite\\\">G6G3</td><td style=\\\"background-color: ghostwhite\\\">G6G4</td><td style=\\\"background-color: ghostwhite\\\">G6G5</td><td style=\\\"background-color: ghostwhite\\\">G6G6</td><td style=\\\"background-color: ghostwhite\\\">G6G7</td></tr><tr><td style=\\\"background-color: yellow\\\">G7B1</td><td style=\\\"background-color: yellow\\\">G7B2</td><td style=\\\"background-color: yellow\\\">G7B3</td><td style=\\\"background-color: yellow\\\">G7B4</td><td style=\\\"background-color: yellow\\\">G7B5</td><td style=\\\"background-color: yellow\\\">G7B6</td><td style=\\\"background-color: yellow\\\">G7B7</td><td style=\\\"background-color: ghostwhite\\\">G7G1</td><td style=\\\"background-color: ghostwhite\\\">G7G2</td><td style=\\\"background-color: ghostwhite\\\">G7G3</td><td style=\\\"background-color: ghostwhite\\\">G7G4</td><td style=\\\"background-color: ghostwhite\\\">G7G5</td><td style=\\\"background-color: ghostwhite\\\">G7G6</td><td style=\\\"background-color: ghostwhite\\\">G7G7</td></tr></table>1//3\")"
      ]
     },
     "execution_count": 34,
     "metadata": {},
     "output_type": "execute_result"
    }
   ],
   "source": [
    "# Problem 2\n",
    "table(S3, 2, two_boys, at_least_one_boy)"
   ]
  },
  {
   "cell_type": "markdown",
   "metadata": {},
   "source": [
    "Now for the paradox of Problem 3:"
   ]
  },
  {
   "cell_type": "code",
   "execution_count": 35,
   "metadata": {
    "collapsed": false
   },
   "outputs": [
    {
     "data": {
      "text/html": [
       "<table><tr><td style=\"background-color: ghostwhite\">B1B1</td><td style=\"background-color: ghostwhite\">B1B2</td><td style=\"background-color: lightgreen\">B1B3</td><td style=\"background-color: ghostwhite\">B1B4</td><td style=\"background-color: ghostwhite\">B1B5</td><td style=\"background-color: ghostwhite\">B1B6</td><td style=\"background-color: ghostwhite\">B1B7</td><td style=\"background-color: ghostwhite\">B1G1</td><td style=\"background-color: ghostwhite\">B1G2</td><td style=\"background-color: ghostwhite\">B1G3</td><td style=\"background-color: ghostwhite\">B1G4</td><td style=\"background-color: ghostwhite\">B1G5</td><td style=\"background-color: ghostwhite\">B1G6</td><td style=\"background-color: ghostwhite\">B1G7</td></tr><tr><td style=\"background-color: ghostwhite\">B2B1</td><td style=\"background-color: ghostwhite\">B2B2</td><td style=\"background-color: lightgreen\">B2B3</td><td style=\"background-color: ghostwhite\">B2B4</td><td style=\"background-color: ghostwhite\">B2B5</td><td style=\"background-color: ghostwhite\">B2B6</td><td style=\"background-color: ghostwhite\">B2B7</td><td style=\"background-color: ghostwhite\">B2G1</td><td style=\"background-color: ghostwhite\">B2G2</td><td style=\"background-color: ghostwhite\">B2G3</td><td style=\"background-color: ghostwhite\">B2G4</td><td style=\"background-color: ghostwhite\">B2G5</td><td style=\"background-color: ghostwhite\">B2G6</td><td style=\"background-color: ghostwhite\">B2G7</td></tr><tr><td style=\"background-color: lightgreen\">B3B1</td><td style=\"background-color: lightgreen\">B3B2</td><td style=\"background-color: lightgreen\">B3B3</td><td style=\"background-color: lightgreen\">B3B4</td><td style=\"background-color: lightgreen\">B3B5</td><td style=\"background-color: lightgreen\">B3B6</td><td style=\"background-color: lightgreen\">B3B7</td><td style=\"background-color: yellow\">B3G1</td><td style=\"background-color: yellow\">B3G2</td><td style=\"background-color: yellow\">B3G3</td><td style=\"background-color: yellow\">B3G4</td><td style=\"background-color: yellow\">B3G5</td><td style=\"background-color: yellow\">B3G6</td><td style=\"background-color: yellow\">B3G7</td></tr><tr><td style=\"background-color: ghostwhite\">B4B1</td><td style=\"background-color: ghostwhite\">B4B2</td><td style=\"background-color: lightgreen\">B4B3</td><td style=\"background-color: ghostwhite\">B4B4</td><td style=\"background-color: ghostwhite\">B4B5</td><td style=\"background-color: ghostwhite\">B4B6</td><td style=\"background-color: ghostwhite\">B4B7</td><td style=\"background-color: ghostwhite\">B4G1</td><td style=\"background-color: ghostwhite\">B4G2</td><td style=\"background-color: ghostwhite\">B4G3</td><td style=\"background-color: ghostwhite\">B4G4</td><td style=\"background-color: ghostwhite\">B4G5</td><td style=\"background-color: ghostwhite\">B4G6</td><td style=\"background-color: ghostwhite\">B4G7</td></tr><tr><td style=\"background-color: ghostwhite\">B5B1</td><td style=\"background-color: ghostwhite\">B5B2</td><td style=\"background-color: lightgreen\">B5B3</td><td style=\"background-color: ghostwhite\">B5B4</td><td style=\"background-color: ghostwhite\">B5B5</td><td style=\"background-color: ghostwhite\">B5B6</td><td style=\"background-color: ghostwhite\">B5B7</td><td style=\"background-color: ghostwhite\">B5G1</td><td style=\"background-color: ghostwhite\">B5G2</td><td style=\"background-color: ghostwhite\">B5G3</td><td style=\"background-color: ghostwhite\">B5G4</td><td style=\"background-color: ghostwhite\">B5G5</td><td style=\"background-color: ghostwhite\">B5G6</td><td style=\"background-color: ghostwhite\">B5G7</td></tr><tr><td style=\"background-color: ghostwhite\">B6B1</td><td style=\"background-color: ghostwhite\">B6B2</td><td style=\"background-color: lightgreen\">B6B3</td><td style=\"background-color: ghostwhite\">B6B4</td><td style=\"background-color: ghostwhite\">B6B5</td><td style=\"background-color: ghostwhite\">B6B6</td><td style=\"background-color: ghostwhite\">B6B7</td><td style=\"background-color: ghostwhite\">B6G1</td><td style=\"background-color: ghostwhite\">B6G2</td><td style=\"background-color: ghostwhite\">B6G3</td><td style=\"background-color: ghostwhite\">B6G4</td><td style=\"background-color: ghostwhite\">B6G5</td><td style=\"background-color: ghostwhite\">B6G6</td><td style=\"background-color: ghostwhite\">B6G7</td></tr><tr><td style=\"background-color: ghostwhite\">B7B1</td><td style=\"background-color: ghostwhite\">B7B2</td><td style=\"background-color: lightgreen\">B7B3</td><td style=\"background-color: ghostwhite\">B7B4</td><td style=\"background-color: ghostwhite\">B7B5</td><td style=\"background-color: ghostwhite\">B7B6</td><td style=\"background-color: ghostwhite\">B7B7</td><td style=\"background-color: ghostwhite\">B7G1</td><td style=\"background-color: ghostwhite\">B7G2</td><td style=\"background-color: ghostwhite\">B7G3</td><td style=\"background-color: ghostwhite\">B7G4</td><td style=\"background-color: ghostwhite\">B7G5</td><td style=\"background-color: ghostwhite\">B7G6</td><td style=\"background-color: ghostwhite\">B7G7</td></tr><tr><td style=\"background-color: ghostwhite\">G1B1</td><td style=\"background-color: ghostwhite\">G1B2</td><td style=\"background-color: yellow\">G1B3</td><td style=\"background-color: ghostwhite\">G1B4</td><td style=\"background-color: ghostwhite\">G1B5</td><td style=\"background-color: ghostwhite\">G1B6</td><td style=\"background-color: ghostwhite\">G1B7</td><td style=\"background-color: ghostwhite\">G1G1</td><td style=\"background-color: ghostwhite\">G1G2</td><td style=\"background-color: ghostwhite\">G1G3</td><td style=\"background-color: ghostwhite\">G1G4</td><td style=\"background-color: ghostwhite\">G1G5</td><td style=\"background-color: ghostwhite\">G1G6</td><td style=\"background-color: ghostwhite\">G1G7</td></tr><tr><td style=\"background-color: ghostwhite\">G2B1</td><td style=\"background-color: ghostwhite\">G2B2</td><td style=\"background-color: yellow\">G2B3</td><td style=\"background-color: ghostwhite\">G2B4</td><td style=\"background-color: ghostwhite\">G2B5</td><td style=\"background-color: ghostwhite\">G2B6</td><td style=\"background-color: ghostwhite\">G2B7</td><td style=\"background-color: ghostwhite\">G2G1</td><td style=\"background-color: ghostwhite\">G2G2</td><td style=\"background-color: ghostwhite\">G2G3</td><td style=\"background-color: ghostwhite\">G2G4</td><td style=\"background-color: ghostwhite\">G2G5</td><td style=\"background-color: ghostwhite\">G2G6</td><td style=\"background-color: ghostwhite\">G2G7</td></tr><tr><td style=\"background-color: ghostwhite\">G3B1</td><td style=\"background-color: ghostwhite\">G3B2</td><td style=\"background-color: yellow\">G3B3</td><td style=\"background-color: ghostwhite\">G3B4</td><td style=\"background-color: ghostwhite\">G3B5</td><td style=\"background-color: ghostwhite\">G3B6</td><td style=\"background-color: ghostwhite\">G3B7</td><td style=\"background-color: ghostwhite\">G3G1</td><td style=\"background-color: ghostwhite\">G3G2</td><td style=\"background-color: ghostwhite\">G3G3</td><td style=\"background-color: ghostwhite\">G3G4</td><td style=\"background-color: ghostwhite\">G3G5</td><td style=\"background-color: ghostwhite\">G3G6</td><td style=\"background-color: ghostwhite\">G3G7</td></tr><tr><td style=\"background-color: ghostwhite\">G4B1</td><td style=\"background-color: ghostwhite\">G4B2</td><td style=\"background-color: yellow\">G4B3</td><td style=\"background-color: ghostwhite\">G4B4</td><td style=\"background-color: ghostwhite\">G4B5</td><td style=\"background-color: ghostwhite\">G4B6</td><td style=\"background-color: ghostwhite\">G4B7</td><td style=\"background-color: ghostwhite\">G4G1</td><td style=\"background-color: ghostwhite\">G4G2</td><td style=\"background-color: ghostwhite\">G4G3</td><td style=\"background-color: ghostwhite\">G4G4</td><td style=\"background-color: ghostwhite\">G4G5</td><td style=\"background-color: ghostwhite\">G4G6</td><td style=\"background-color: ghostwhite\">G4G7</td></tr><tr><td style=\"background-color: ghostwhite\">G5B1</td><td style=\"background-color: ghostwhite\">G5B2</td><td style=\"background-color: yellow\">G5B3</td><td style=\"background-color: ghostwhite\">G5B4</td><td style=\"background-color: ghostwhite\">G5B5</td><td style=\"background-color: ghostwhite\">G5B6</td><td style=\"background-color: ghostwhite\">G5B7</td><td style=\"background-color: ghostwhite\">G5G1</td><td style=\"background-color: ghostwhite\">G5G2</td><td style=\"background-color: ghostwhite\">G5G3</td><td style=\"background-color: ghostwhite\">G5G4</td><td style=\"background-color: ghostwhite\">G5G5</td><td style=\"background-color: ghostwhite\">G5G6</td><td style=\"background-color: ghostwhite\">G5G7</td></tr><tr><td style=\"background-color: ghostwhite\">G6B1</td><td style=\"background-color: ghostwhite\">G6B2</td><td style=\"background-color: yellow\">G6B3</td><td style=\"background-color: ghostwhite\">G6B4</td><td style=\"background-color: ghostwhite\">G6B5</td><td style=\"background-color: ghostwhite\">G6B6</td><td style=\"background-color: ghostwhite\">G6B7</td><td style=\"background-color: ghostwhite\">G6G1</td><td style=\"background-color: ghostwhite\">G6G2</td><td style=\"background-color: ghostwhite\">G6G3</td><td style=\"background-color: ghostwhite\">G6G4</td><td style=\"background-color: ghostwhite\">G6G5</td><td style=\"background-color: ghostwhite\">G6G6</td><td style=\"background-color: ghostwhite\">G6G7</td></tr><tr><td style=\"background-color: ghostwhite\">G7B1</td><td style=\"background-color: ghostwhite\">G7B2</td><td style=\"background-color: yellow\">G7B3</td><td style=\"background-color: ghostwhite\">G7B4</td><td style=\"background-color: ghostwhite\">G7B5</td><td style=\"background-color: ghostwhite\">G7B6</td><td style=\"background-color: ghostwhite\">G7B7</td><td style=\"background-color: ghostwhite\">G7G1</td><td style=\"background-color: ghostwhite\">G7G2</td><td style=\"background-color: ghostwhite\">G7G3</td><td style=\"background-color: ghostwhite\">G7G4</td><td style=\"background-color: ghostwhite\">G7G5</td><td style=\"background-color: ghostwhite\">G7G6</td><td style=\"background-color: ghostwhite\">G7G7</td></tr></table>13//27"
      ],
      "text/plain": [
       "HTML{ASCIIString}(\"<table><tr><td style=\\\"background-color: ghostwhite\\\">B1B1</td><td style=\\\"background-color: ghostwhite\\\">B1B2</td><td style=\\\"background-color: lightgreen\\\">B1B3</td><td style=\\\"background-color: ghostwhite\\\">B1B4</td><td style=\\\"background-color: ghostwhite\\\">B1B5</td><td style=\\\"background-color: ghostwhite\\\">B1B6</td><td style=\\\"background-color: ghostwhite\\\">B1B7</td><td style=\\\"background-color: ghostwhite\\\">B1G1</td><td style=\\\"background-color: ghostwhite\\\">B1G2</td><td style=\\\"background-color: ghostwhite\\\">B1G3</td><td style=\\\"background-color: ghostwhite\\\">B1G4</td><td style=\\\"background-color: ghostwhite\\\">B1G5</td><td style=\\\"background-color: ghostwhite\\\">B1G6</td><td style=\\\"background-color: ghostwhite\\\">B1G7</td></tr><tr><td style=\\\"background-color: ghostwhite\\\">B2B1</td><td style=\\\"background-color: ghostwhite\\\">B2B2</td><td style=\\\"background-color: lightgreen\\\">B2B3</td><td style=\\\"background-color: ghostwhite\\\">B2B4</td><td style=\\\"background-color: ghostwhite\\\">B2B5</td><td style=\\\"background-color: ghostwhite\\\">B2B6</td><td style=\\\"background-color: ghostwhite\\\">B2B7</td><td style=\\\"background-color: ghostwhite\\\">B2G1</td><td style=\\\"background-color: ghostwhite\\\">B2G2</td><td style=\\\"background-color: ghostwhite\\\">B2G3</td><td style=\\\"background-color: ghostwhite\\\">B2G4</td><td style=\\\"background-color: ghostwhite\\\">B2G5</td><td style=\\\"background-color: ghostwhite\\\">B2G6</td><td style=\\\"background-color: ghostwhite\\\">B2G7</td></tr><tr><td style=\\\"background-color: lightgreen\\\">B3B1</td><td style=\\\"background-color: lightgreen\\\">B3B2</td><td style=\\\"background-color: lightgreen\\\">B3B3</td><td style=\\\"background-color: lightgreen\\\">B3B4</td><td style=\\\"background-color: lightgreen\\\">B3B5</td><td style=\\\"background-color: lightgreen\\\">B3B6</td><td style=\\\"background-color: lightgreen\\\">B3B7</td><td style=\\\"background-color: yellow\\\">B3G1</td><td style=\\\"background-color: yellow\\\">B3G2</td><td style=\\\"background-color: yellow\\\">B3G3</td><td style=\\\"background-color: yellow\\\">B3G4</td><td style=\\\"background-color: yellow\\\">B3G5</td><td style=\\\"background-color: yellow\\\">B3G6</td><td style=\\\"background-color: yellow\\\">B3G7</td></tr><tr><td style=\\\"background-color: ghostwhite\\\">B4B1</td><td style=\\\"background-color: ghostwhite\\\">B4B2</td><td style=\\\"background-color: lightgreen\\\">B4B3</td><td style=\\\"background-color: ghostwhite\\\">B4B4</td><td style=\\\"background-color: ghostwhite\\\">B4B5</td><td style=\\\"background-color: ghostwhite\\\">B4B6</td><td style=\\\"background-color: ghostwhite\\\">B4B7</td><td style=\\\"background-color: ghostwhite\\\">B4G1</td><td style=\\\"background-color: ghostwhite\\\">B4G2</td><td style=\\\"background-color: ghostwhite\\\">B4G3</td><td style=\\\"background-color: ghostwhite\\\">B4G4</td><td style=\\\"background-color: ghostwhite\\\">B4G5</td><td style=\\\"background-color: ghostwhite\\\">B4G6</td><td style=\\\"background-color: ghostwhite\\\">B4G7</td></tr><tr><td style=\\\"background-color: ghostwhite\\\">B5B1</td><td style=\\\"background-color: ghostwhite\\\">B5B2</td><td style=\\\"background-color: lightgreen\\\">B5B3</td><td style=\\\"background-color: ghostwhite\\\">B5B4</td><td style=\\\"background-color: ghostwhite\\\">B5B5</td><td style=\\\"background-color: ghostwhite\\\">B5B6</td><td style=\\\"background-color: ghostwhite\\\">B5B7</td><td style=\\\"background-color: ghostwhite\\\">B5G1</td><td style=\\\"background-color: ghostwhite\\\">B5G2</td><td style=\\\"background-color: ghostwhite\\\">B5G3</td><td style=\\\"background-color: ghostwhite\\\">B5G4</td><td style=\\\"background-color: ghostwhite\\\">B5G5</td><td style=\\\"background-color: ghostwhite\\\">B5G6</td><td style=\\\"background-color: ghostwhite\\\">B5G7</td></tr><tr><td style=\\\"background-color: ghostwhite\\\">B6B1</td><td style=\\\"background-color: ghostwhite\\\">B6B2</td><td style=\\\"background-color: lightgreen\\\">B6B3</td><td style=\\\"background-color: ghostwhite\\\">B6B4</td><td style=\\\"background-color: ghostwhite\\\">B6B5</td><td style=\\\"background-color: ghostwhite\\\">B6B6</td><td style=\\\"background-color: ghostwhite\\\">B6B7</td><td style=\\\"background-color: ghostwhite\\\">B6G1</td><td style=\\\"background-color: ghostwhite\\\">B6G2</td><td style=\\\"background-color: ghostwhite\\\">B6G3</td><td style=\\\"background-color: ghostwhite\\\">B6G4</td><td style=\\\"background-color: ghostwhite\\\">B6G5</td><td style=\\\"background-color: ghostwhite\\\">B6G6</td><td style=\\\"background-color: ghostwhite\\\">B6G7</td></tr><tr><td style=\\\"background-color: ghostwhite\\\">B7B1</td><td style=\\\"background-color: ghostwhite\\\">B7B2</td><td style=\\\"background-color: lightgreen\\\">B7B3</td><td style=\\\"background-color: ghostwhite\\\">B7B4</td><td style=\\\"background-color: ghostwhite\\\">B7B5</td><td style=\\\"background-color: ghostwhite\\\">B7B6</td><td style=\\\"background-color: ghostwhite\\\">B7B7</td><td style=\\\"background-color: ghostwhite\\\">B7G1</td><td style=\\\"background-color: ghostwhite\\\">B7G2</td><td style=\\\"background-color: ghostwhite\\\">B7G3</td><td style=\\\"background-color: ghostwhite\\\">B7G4</td><td style=\\\"background-color: ghostwhite\\\">B7G5</td><td style=\\\"background-color: ghostwhite\\\">B7G6</td><td style=\\\"background-color: ghostwhite\\\">B7G7</td></tr><tr><td style=\\\"background-color: ghostwhite\\\">G1B1</td><td style=\\\"background-color: ghostwhite\\\">G1B2</td><td style=\\\"background-color: yellow\\\">G1B3</td><td style=\\\"background-color: ghostwhite\\\">G1B4</td><td style=\\\"background-color: ghostwhite\\\">G1B5</td><td style=\\\"background-color: ghostwhite\\\">G1B6</td><td style=\\\"background-color: ghostwhite\\\">G1B7</td><td style=\\\"background-color: ghostwhite\\\">G1G1</td><td style=\\\"background-color: ghostwhite\\\">G1G2</td><td style=\\\"background-color: ghostwhite\\\">G1G3</td><td style=\\\"background-color: ghostwhite\\\">G1G4</td><td style=\\\"background-color: ghostwhite\\\">G1G5</td><td style=\\\"background-color: ghostwhite\\\">G1G6</td><td style=\\\"background-color: ghostwhite\\\">G1G7</td></tr><tr><td style=\\\"background-color: ghostwhite\\\">G2B1</td><td style=\\\"background-color: ghostwhite\\\">G2B2</td><td style=\\\"background-color: yellow\\\">G2B3</td><td style=\\\"background-color: ghostwhite\\\">G2B4</td><td style=\\\"background-color: ghostwhite\\\">G2B5</td><td style=\\\"background-color: ghostwhite\\\">G2B6</td><td style=\\\"background-color: ghostwhite\\\">G2B7</td><td style=\\\"background-color: ghostwhite\\\">G2G1</td><td style=\\\"background-color: ghostwhite\\\">G2G2</td><td style=\\\"background-color: ghostwhite\\\">G2G3</td><td style=\\\"background-color: ghostwhite\\\">G2G4</td><td style=\\\"background-color: ghostwhite\\\">G2G5</td><td style=\\\"background-color: ghostwhite\\\">G2G6</td><td style=\\\"background-color: ghostwhite\\\">G2G7</td></tr><tr><td style=\\\"background-color: ghostwhite\\\">G3B1</td><td style=\\\"background-color: ghostwhite\\\">G3B2</td><td style=\\\"background-color: yellow\\\">G3B3</td><td style=\\\"background-color: ghostwhite\\\">G3B4</td><td style=\\\"background-color: ghostwhite\\\">G3B5</td><td style=\\\"background-color: ghostwhite\\\">G3B6</td><td style=\\\"background-color: ghostwhite\\\">G3B7</td><td style=\\\"background-color: ghostwhite\\\">G3G1</td><td style=\\\"background-color: ghostwhite\\\">G3G2</td><td style=\\\"background-color: ghostwhite\\\">G3G3</td><td style=\\\"background-color: ghostwhite\\\">G3G4</td><td style=\\\"background-color: ghostwhite\\\">G3G5</td><td style=\\\"background-color: ghostwhite\\\">G3G6</td><td style=\\\"background-color: ghostwhite\\\">G3G7</td></tr><tr><td style=\\\"background-color: ghostwhite\\\">G4B1</td><td style=\\\"background-color: ghostwhite\\\">G4B2</td><td style=\\\"background-color: yellow\\\">G4B3</td><td style=\\\"background-color: ghostwhite\\\">G4B4</td><td style=\\\"background-color: ghostwhite\\\">G4B5</td><td style=\\\"background-color: ghostwhite\\\">G4B6</td><td style=\\\"background-color: ghostwhite\\\">G4B7</td><td style=\\\"background-color: ghostwhite\\\">G4G1</td><td style=\\\"background-color: ghostwhite\\\">G4G2</td><td style=\\\"background-color: ghostwhite\\\">G4G3</td><td style=\\\"background-color: ghostwhite\\\">G4G4</td><td style=\\\"background-color: ghostwhite\\\">G4G5</td><td style=\\\"background-color: ghostwhite\\\">G4G6</td><td style=\\\"background-color: ghostwhite\\\">G4G7</td></tr><tr><td style=\\\"background-color: ghostwhite\\\">G5B1</td><td style=\\\"background-color: ghostwhite\\\">G5B2</td><td style=\\\"background-color: yellow\\\">G5B3</td><td style=\\\"background-color: ghostwhite\\\">G5B4</td><td style=\\\"background-color: ghostwhite\\\">G5B5</td><td style=\\\"background-color: ghostwhite\\\">G5B6</td><td style=\\\"background-color: ghostwhite\\\">G5B7</td><td style=\\\"background-color: ghostwhite\\\">G5G1</td><td style=\\\"background-color: ghostwhite\\\">G5G2</td><td style=\\\"background-color: ghostwhite\\\">G5G3</td><td style=\\\"background-color: ghostwhite\\\">G5G4</td><td style=\\\"background-color: ghostwhite\\\">G5G5</td><td style=\\\"background-color: ghostwhite\\\">G5G6</td><td style=\\\"background-color: ghostwhite\\\">G5G7</td></tr><tr><td style=\\\"background-color: ghostwhite\\\">G6B1</td><td style=\\\"background-color: ghostwhite\\\">G6B2</td><td style=\\\"background-color: yellow\\\">G6B3</td><td style=\\\"background-color: ghostwhite\\\">G6B4</td><td style=\\\"background-color: ghostwhite\\\">G6B5</td><td style=\\\"background-color: ghostwhite\\\">G6B6</td><td style=\\\"background-color: ghostwhite\\\">G6B7</td><td style=\\\"background-color: ghostwhite\\\">G6G1</td><td style=\\\"background-color: ghostwhite\\\">G6G2</td><td style=\\\"background-color: ghostwhite\\\">G6G3</td><td style=\\\"background-color: ghostwhite\\\">G6G4</td><td style=\\\"background-color: ghostwhite\\\">G6G5</td><td style=\\\"background-color: ghostwhite\\\">G6G6</td><td style=\\\"background-color: ghostwhite\\\">G6G7</td></tr><tr><td style=\\\"background-color: ghostwhite\\\">G7B1</td><td style=\\\"background-color: ghostwhite\\\">G7B2</td><td style=\\\"background-color: yellow\\\">G7B3</td><td style=\\\"background-color: ghostwhite\\\">G7B4</td><td style=\\\"background-color: ghostwhite\\\">G7B5</td><td style=\\\"background-color: ghostwhite\\\">G7B6</td><td style=\\\"background-color: ghostwhite\\\">G7B7</td><td style=\\\"background-color: ghostwhite\\\">G7G1</td><td style=\\\"background-color: ghostwhite\\\">G7G2</td><td style=\\\"background-color: ghostwhite\\\">G7G3</td><td style=\\\"background-color: ghostwhite\\\">G7G4</td><td style=\\\"background-color: ghostwhite\\\">G7G5</td><td style=\\\"background-color: ghostwhite\\\">G7G6</td><td style=\\\"background-color: ghostwhite\\\">G7G7</td></tr></table>13//27\")"
      ]
     },
     "execution_count": 35,
     "metadata": {},
     "output_type": "execute_result"
    }
   ],
   "source": [
    "# Problem 3\n",
    "table(S3, 2, two_boys, at_least_one_boy_tues)"
   ]
  },
  {
   "cell_type": "markdown",
   "metadata": {},
   "source": [
    "We see there are 27 relevant outcomes, of which 13 are green. So 13/27 really does seem to be the right answer. This picture also gives us a way to think about why the answer is not 1/3. Think of the yellow-plus-green area as a horizontal stripe and a vertical stripe, with an overlap. Each stripe is half yellow and half green, so if there were no overlap at all, the probability of green would be 1/2. When each stripe takes up half the sample space and the overlap is maximal, the probability is 1/3. And in the Problem 3 table, where the overlap is small, the probability is close to 1/2 (but slightly smaller).\n",
    "\n",
    "One way to look at it is that if I tell you very specific information (such as a boy born on Tuesday), it is unlikely that this applies to both children, so we have smaller overlap and a probability closer to 1/2, but if I give you broad information (a boy), this is more likely to apply to either child, resulting in a larger overlap, and a probability closer to 1/3.\n",
    "\n",
    "You can read some more discussions of the problem by (in alphabetical order) [Alex Bellos](https://www.newscientist.com/article/dn18950-magic-numbers-a-meeting-of-mathemagical-tricksters?full=true), [Alexander Bogomolny](http://www.cut-the-knot.org/Probability/BearBornOnTuesday.shtml), [Andrew Gelman](http://andrewgelman.com/2010/05/27/hype_about_cond/), [David Bigelow](https://web.viu.ca/bigelow2/Problem%201127%20Solution.pdf), [Julie Rehmeyer](https://www.sciencenews.org/article/when-intuition-and-math-probably-look-wrong), [Keith Devlin](https://www.maa.org/external_archive/devlin/devlin_05_10.html), [Peter Lynch](http://mathsci.ucd.ie/~plynch/Publications/BIMS-TwoChildParadox.pdf), [Tanya Khovanova](http://arxiv.org/pdf/1102.0173v1.pdf), and [Wendy Taylor & Kaye Stacey](http://www.aamt.edu.au/Journals/Sample-articles/amt70_2_taylor.pdf).\n",
    "\n",
    "## The Sleeping Beauty Paradox\n",
    "\n",
    "The Sleeping Beauty Paradox is another tricky one:\n",
    "\n",
    "> Sleeping Beauty volunteers to undergo the following experiment and is told all of the following details: On Sunday she will be put to sleep. Once or twice, during the experiment, Beauty will be awakened, interviewed, and put back to sleep with an amnesia-inducing drug that makes her forget that awakening. A fair coin will be tossed to determine which experimental procedure to undertake: if the coin comes up heads, Beauty will be awakened and interviewed on Monday only. If the coin comes up tails, she will be awakened and interviewed on Monday and Tuesday. In either case, she will be awakened on Wednesday without interview and the experiment ends. Any time Sleeping Beauty is awakened and interviewed, she is asked, \"What is your belief now for the proposition that the coin landed heads?\"\n",
    "What should Sleeping Beauty say when she is interviewed? First, she should define the sample space. She could use the notation '`heads/Monday/interviewed`' to mean the outcome where the coin flip was heads, it is Monday, and she is interviewed. So it seems there are 4 equiprobable outcomes:\n"
   ]
  },
  {
   "cell_type": "code",
   "execution_count": 36,
   "metadata": {
    "collapsed": false
   },
   "outputs": [],
   "source": [
    "B = Set([\"heads/Monday/interviewed\", \"heads/Tuesday/sleep\",\n",
    "         \"tails/Monday/interviewed\", \"tails/Tuesday/interviewed\"]) #;"
   ]
  },
  {
   "cell_type": "markdown",
   "metadata": {},
   "source": [
    "At this point, you're probably expecting me to define predicates, like this:\n",
    "\n",
    "    heads(outcome) = contains(outcome,\"heads\")\n",
    "    interviewed(outcome) = contains(outcome,\"interviewed\")\n",
    "\n",
    "We've seen a lot of predicates like this. I think it is time to heed the \"[don't repeat yourself](https://en.wikipedia.org/wiki/Don%27t_repeat_yourself)\" principle, so I will define a predicate-defining function:"
   ]
  },
  {
   "cell_type": "code",
   "execution_count": 37,
   "metadata": {
    "collapsed": false
   },
   "outputs": [],
   "source": [
    "\"Return a predicate that is true for all outcomes that contain the property as a substring.\"\n",
    "T(property) = (outcome)->contains(outcome,property) #;"
   ]
  },
  {
   "cell_type": "markdown",
   "metadata": {},
   "source": [
    "Now we can get the answer:"
   ]
  },
  {
   "cell_type": "code",
   "execution_count": 38,
   "metadata": {
    "collapsed": false
   },
   "outputs": [
    {
     "data": {
      "text/plain": [
       "1//3"
      ]
     },
     "execution_count": 38,
     "metadata": {},
     "output_type": "execute_result"
    }
   ],
   "source": [
    "heads = T(\"heads\")\n",
    "interviewed = T(\"interviewed\")\n",
    "\n",
    "P(heads, such_that(interviewed, B))"
   ]
  },
  {
   "cell_type": "markdown",
   "metadata": {},
   "source": [
    "(Note I could have done that in one line instead of three: `P(T(\"heads\"), such_that(T(\"interviewed\"), B))`, but that's kind of ugly.)\n",
    "\n",
    "This problem is considered a paradox because there are people who argue that the answer should be 1/2, not 1/3. I admit I'm having difficulty coming up with a sample space that supports the \"halfer\" position. I do know of a question that has the answer 1/2:"
   ]
  },
  {
   "cell_type": "code",
   "execution_count": 39,
   "metadata": {
    "collapsed": false
   },
   "outputs": [
    {
     "data": {
      "text/plain": [
       "1//2"
      ]
     },
     "execution_count": 39,
     "metadata": {},
     "output_type": "execute_result"
    }
   ],
   "source": [
    "P(heads, B) "
   ]
  },
  {
   "cell_type": "markdown",
   "metadata": {},
   "source": [
    "But that seems like the wrong question; we want the probability of heads given that Sleeping Beauty was interviewed, not the unconditional probability.\n",
    "\n",
    "The \"halfers\" argue that before Sleeping Beauty goes to sleep, her unconditional probability for heads should be 1/2. When she is interviewed, she doesn't know anything more than before she went to sleep, so nothing has changed, so the probability of heads should still be 1/2. I find two flaws with this argument. First, if you want to convince me, show me a sample space; don't just make philosophical arguments. (Although a philosophical argument can be employed to help you define the right sample space.) Second, while I agree that before she goes to sleep, Beauty's *unconcitional* probability for heads should be 1/2, I would say that both before she goes to sleep and when she is awakened, her *conditional* probability of heads *given that she is being interviewed* should be 1/3, as shown by the sample space.\n",
    "\n",
    "# The Monty Hall Paradox\n",
    "\n",
    "[This](https://en.wikipedia.org/wiki/Monty_Hall_problem) is one of the most famous probability paradoxes. It can be stated as follows:\n",
    "\n",
    "> Suppose you're on a game show, and you're given the choice of three doors: Behind one door is a car; behind the others, goats. You pick a door, say No. 1, and the host, who knows what's behind the doors, opens another door, say No. 3, which has a goat. He then says to you, \"Do you want to pick door No. 2?\" Is it to your advantage to switch your choice?\n",
    "\n",
    "Much has been written about this problem, but to solve it all we have to do is be careful about defining our sample space. I will define outcomes of the form `'Car1<Pick1/Open2'`, which means\n",
    "\n",
    "* `Car1`: First the car is randomly placed behind door 1.\n",
    "* `<`: The host randomly commits to the strategy of opening the lowest-numbered allowable door. A door is allowable if it does not contain the car and was not picked by the contestant. Alternatively, the host could have chosen to open the highest-numbered allowable door (`>`).\n",
    "* `Pick1`: The contestant picks door 1. Our sample space will only consider cases where the contestant picks door 1, but by symmetry, the same arguments could be used if the contestant picked door 2 or 3.\n",
    "* `Open2`: After hearing the contestant's choice, and following the strategy, the host opens a door; in this case door 2.\n",
    "\n",
    "We can see that the sample space has 6 equiprobable outcomes:"
   ]
  },
  {
   "cell_type": "code",
   "execution_count": 40,
   "metadata": {
    "collapsed": true
   },
   "outputs": [],
   "source": [
    "M = Set([\"Car1<Pick1/Open2\", \"Car1>Pick1/Open3\",\n",
    "         \"Car2<Pick1/Open3\", \"Car2>Pick1/Open3\",\n",
    "         \"Car3<Pick1/Open2\", \"Car3>Pick1/Open2\"]) #;"
   ]
  },
  {
   "cell_type": "markdown",
   "metadata": {},
   "source": [
    "Now, assuming the contestant picks door 1 and the host opens door 3, what is the probability that the car is behind door 1? Or door 2?"
   ]
  },
  {
   "cell_type": "code",
   "execution_count": 41,
   "metadata": {
    "collapsed": false
   },
   "outputs": [
    {
     "data": {
      "text/plain": [
       "1//3"
      ]
     },
     "execution_count": 41,
     "metadata": {},
     "output_type": "execute_result"
    }
   ],
   "source": [
    "P(T(\"Car1\"), such_that(T(\"Open3\"), M))"
   ]
  },
  {
   "cell_type": "code",
   "execution_count": 42,
   "metadata": {
    "collapsed": false
   },
   "outputs": [
    {
     "data": {
      "text/plain": [
       "2//3"
      ]
     },
     "execution_count": 42,
     "metadata": {},
     "output_type": "execute_result"
    }
   ],
   "source": [
    "P(T(\"Car2\"), such_that(T(\"Open3\"), M))"
   ]
  },
  {
   "cell_type": "markdown",
   "metadata": {},
   "source": [
    "We see that the strategy of **switching** from door 1 to door 2 will win the car 2/3 of the time, whereas the strategy of **sticking** with the original pick wins the car only 1/3 of the time. So if you like cars more than goats, you should switch. But don't feel bad if you got this one wrong; it turns out that Monty Hall himself, who opened numerous doors while hosting *Let's Make a Deal* for 13 years, didn't know the answer either, as revealed in this letter from Monty to statistician Lawrence Denenberg, when Denenberg asked for permission to use the problem in his textbook:\n",
    "![monty hall letter](monty-hall-letter.jpg)"
   ]
  },
  {
   "cell_type": "markdown",
   "metadata": {},
   "source": [
    "If you were Denenberg, how would you answer Monty, in non-mathematical terms. I would try something like this:\n",
    "\n",
    "> When the contestant makes her initial pick, she has 1/3 chance of picking the car, and there is a 2/3 chance the car is behind one of the other doors. That's still true after you open a door, but now the 2/3 chance for *either* other door becomes concentrated as 2/3 behind *one* other door, so the contestant should switch.\n",
    "\n",
    "But that argument was not persuasive to everyone. [Marilyn vos Savant](http://marilynvossavant.com/game-show-problem/) reports that many of her readers still insist the answer is that it doesn't matter if the contestant switches; the odds are 1/2 either way. Let's try to discover what problem and what sample space those people are dealing with. Perhaps they are reasoning like this:\n",
    "\n",
    "They define outcomes of the form 'Car1/Pick1/Open2/Goat', which means:\n",
    "\n",
    "* `Car1`: First the car is randomly placed behind door 1.\n",
    "* `Pick1`: The contestant picks door 1.\n",
    "* `Open2`: The host opens one of the two other doors at random (so the host might open the door with the car).\n",
    "* `Goat`: We observe there is a goat behind door 2.\n",
    "\n",
    "Under this interpretation, the sample space is:"
   ]
  },
  {
   "cell_type": "code",
   "execution_count": 43,
   "metadata": {
    "collapsed": true
   },
   "outputs": [],
   "source": [
    "M2 = [\"Car1/Pick1/Open2/Goat\", \"Car1/Pick1/Open3/Goat\",\n",
    "      \"Car2/Pick1/Open2/Car\",  \"Car2/Pick1/Open3/Goat\",\n",
    "      \"Car3/Pick1/Open2/Goat\", \"Car3/Pick1/Open3/Car\"] #;"
   ]
  },
  {
   "cell_type": "markdown",
   "metadata": {},
   "source": [
    "And we can calculate the probability of the car being behind each door, given that the contestant picks door 1 and the host opens door 3 to reveal a goat:"
   ]
  },
  {
   "cell_type": "code",
   "execution_count": 44,
   "metadata": {
    "collapsed": false
   },
   "outputs": [
    {
     "data": {
      "text/plain": [
       "1//2"
      ]
     },
     "execution_count": 44,
     "metadata": {},
     "output_type": "execute_result"
    }
   ],
   "source": [
    "P(T(\"Car1\"), such_that(T(\"Open3/Goat\"), M2))"
   ]
  },
  {
   "cell_type": "code",
   "execution_count": 45,
   "metadata": {
    "collapsed": false
   },
   "outputs": [
    {
     "data": {
      "text/plain": [
       "1//2"
      ]
     },
     "execution_count": 45,
     "metadata": {},
     "output_type": "execute_result"
    }
   ],
   "source": [
    "P(T(\"Car2\"), such_that(T(\"Open3/Goat\"), M2))"
   ]
  },
  {
   "cell_type": "markdown",
   "metadata": {},
   "source": [
    "So we see that under this interpretation it doesn't matter if you switch or not."
   ]
  },
  {
   "cell_type": "markdown",
   "metadata": {},
   "source": [
    "# Non-Equiprobable Outcomes: Probability Distributions\n",
    "\n",
    "So far, we have made the assumption that every outcome in a sample space is equally likely. In real life, the probability of a child being a girl (or boy) is not exactly 1/2 and the sex of a second child is not completely independent from the first. An [article](http://people.kzoo.edu/barth/math105/moreboys.pdf) gives the following counts for two-child families in Denmark:\n",
    "\n",
    "    GG: 121801    GB: 126840\n",
    "    BG: 127123    BB: 135138\n",
    "\n",
    "We call this mapping from outcomes to their frequencies a *distribution*. Here are two more definitions:\n",
    "\n",
    "* [Distribution](http://mathworld.wolfram.com/StatisticalDistribution.html): An assignment of frequencies to every outcome in a sample space.\n",
    "\n",
    "* [Probability Distribution](https://en.wikipedia.org/wiki/Probability_distribution): A distribution that has been *normalized* so that the sum of the frequencies is 1 (and each frequency is between 0 and 1).\n",
    "\n",
    "We can implement distributions as `Dict`s with this code:"
   ]
  },
  {
   "cell_type": "code",
   "execution_count": 46,
   "metadata": {
    "collapsed": false
   },
   "outputs": [],
   "source": [
    "\"Given a distribution (a Dict), return a version where the values are normalized to sum to 1.\"\n",
    "function normalize(dist)\n",
    "    total = sum(values(dist))\n",
    "    return Dict([k=>(v/total) for (k,v) in dist])\n",
    "end\n",
    "\n",
    "type ProbDist\n",
    "    pdict::Dict{AbstractString,Real}\n",
    "    ProbDist(entries::Dict) = new(normalize(entries))  # constructor: initialize distribution from a Dict\n",
    "end\n",
    "ProbDist(args...) = ProbDist(Dict(args...))  # initialize ProbDist as a Dict and send it to normalizing consrtuctor ;"
   ]
  },
  {
   "cell_type": "markdown",
   "metadata": {},
   "source": [
    "[ *J.T.*: Again, Julia prints objects in a computer friendly way. Additionally, the order of elements to print needs to be chosen. We define a `pprintln` (pretty print) function to fix both. ]"
   ]
  },
  {
   "cell_type": "code",
   "execution_count": 47,
   "metadata": {
    "collapsed": false
   },
   "outputs": [],
   "source": [
    "\"returns an ordered dictionary with entries according to the 'default' order of keys\"\n",
    "keysorted(d) = OrderedDict(sort(collect(d),by=x->x[1]));\n",
    "\"returns an ordered dictionary with entries according to the 'default' order of values, largest first\"\n",
    "valuesorted(d) = OrderedDict(sort(collect(d),by=x->x[2],rev=true));\n",
    "\n",
    "\"Pretty prints an ordered dictionary\"\n",
    "function pprintln(dict::Associative)\n",
    "    print(\"{\")\n",
    "    for (i,e) in enumerate(dict)\n",
    "        i==1 || print(\",\\n \")\n",
    "        print(\"$(e[1]) : $(e[2])\")\n",
    "    end\n",
    "    println(\"}\")\n",
    "end\n",
    "\n",
    "\"Pretty prints a probability distribtion by using the default sort order of the keys\"\n",
    "pprintln(x::ProbDist) = pprintln(keysorted(x.pdict)) #;"
   ]
  },
  {
   "cell_type": "markdown",
   "metadata": {},
   "source": [
    "[ *J.T.*: OK. Now, let's continue ]."
   ]
  },
  {
   "cell_type": "code",
   "execution_count": 48,
   "metadata": {
    "collapsed": false
   },
   "outputs": [
    {
     "name": "stdout",
     "output_type": "stream",
     "text": [
      "{BB : 0.2645086533229465,\n",
      " BG : 0.24882071317004043,\n",
      " GB : 0.24826679089140383,\n",
      " GG : 0.23840384261560926}\n"
     ]
    }
   ],
   "source": [
    "DK = ProbDist(\"GG\"=>121801, \"GB\"=>126840,\"BG\"=>127123, \"BB\"=>135138)\n",
    "pprintln(DK)"
   ]
  },
  {
   "cell_type": "markdown",
   "metadata": {},
   "source": [
    "Now we need to modify the functions `P` and `such_that` to accept either a sample space or a probability distribution:"
   ]
  },
  {
   "cell_type": "code",
   "execution_count": 49,
   "metadata": {
    "collapsed": false
   },
   "outputs": [],
   "source": [
    "\"\"\"The probability of an event, given a sample space of equiprobable outcomes. \n",
    "The event can be either a collection of outcomes, or a predicate that is true of outcomes in the event. \n",
    "The space can be either a set of outcomes or a probability distribution of {outcome: frequency} pairs.\"\"\"\n",
    "P(event::Function, space::ProbDist) = \n",
    "    sum([space.pdict[e] for e in filter(event, collect(keys(space.pdict)))])\n",
    "    \n",
    "\"\"\"The elements in the space for which the predicate is true.\n",
    "If space is a set, return a subset {element,...} where predicate(element) is true.\n",
    "If space is a dict, return a sub-dict of {element: frequency,...} pairs where predicate(element) is true.\"\"\"\n",
    "such_that(predicate::Function, space::ProbDist) = \n",
    "    ProbDist(Dict([e=>space.pdict[e] for e in filter(predicate,collect(keys(space.pdict)))])) #;"
   ]
  },
  {
   "cell_type": "markdown",
   "metadata": {},
   "source": [
    "First, let's verify that it still works on the old problems where the sample space is a set:"
   ]
  },
  {
   "cell_type": "code",
   "execution_count": 50,
   "metadata": {
    "collapsed": false
   },
   "outputs": [
    {
     "data": {
      "text/plain": [
       "1//2"
      ]
     },
     "execution_count": 50,
     "metadata": {},
     "output_type": "execute_result"
    }
   ],
   "source": [
    "# Problem 1 in S\n",
    "P(two_boys, such_that(older_is_a_boy, S))"
   ]
  },
  {
   "cell_type": "code",
   "execution_count": 51,
   "metadata": {
    "collapsed": false
   },
   "outputs": [
    {
     "data": {
      "text/plain": [
       "1//3"
      ]
     },
     "execution_count": 51,
     "metadata": {},
     "output_type": "execute_result"
    }
   ],
   "source": [
    "# Problem 2 in S\n",
    "P(two_boys, such_that(at_least_one_boy, S))"
   ]
  },
  {
   "cell_type": "markdown",
   "metadata": {},
   "source": [
    "Now let's see if the definitions work with the probability distribution `DK`. We expect a little over 1/2 for Problem 1, and a little over 1/3 for problem 2:"
   ]
  },
  {
   "cell_type": "code",
   "execution_count": 52,
   "metadata": {
    "collapsed": false
   },
   "outputs": [
    {
     "data": {
      "text/plain": [
       "0.5152805792702689"
      ]
     },
     "execution_count": 52,
     "metadata": {},
     "output_type": "execute_result"
    }
   ],
   "source": [
    "# Problem 1 in DK\n",
    "P(two_boys, such_that(older_is_a_boy, DK))"
   ]
  },
  {
   "cell_type": "code",
   "execution_count": 53,
   "metadata": {
    "collapsed": false
   },
   "outputs": [
    {
     "data": {
      "text/plain": [
       "0.34730828242538575"
      ]
     },
     "execution_count": 53,
     "metadata": {},
     "output_type": "execute_result"
    }
   ],
   "source": [
    "# Problem 2 in DK\n",
    "P(two_boys, such_that(at_least_one_boy, DK))"
   ]
  },
  {
   "cell_type": "markdown",
   "metadata": {},
   "source": [
    "It all looks good. Now let's try a new problem that would not have been feasible with a set-based sample space.\n",
    "\n",
    "## Problem 4. One is a boy born on Feb. 29. What is the probability both are boys?\n",
    "\n",
    "* **Problem 4.** I have two children. At least one of them is a boy born on leap day, February 29. What is the probability that both children are boys? Assume that 51.5% of births are boys and that birth days are distributed evenly across the 4&times;365 + 1 days in a 4-year cycle.\n",
    "\n",
    "We will use the notation `GLBN` to mean an older girl born on leap day and a younger boy born on a non-leap day. We'll define a helper function, `joint`, that creates the joint probability distribution of two probability distributions:"
   ]
  },
  {
   "cell_type": "code",
   "execution_count": 54,
   "metadata": {
    "collapsed": false
   },
   "outputs": [],
   "source": [
    "\"\"\"The joint distribution of two independent probability distributions. \n",
    "Result is all entries of the form {a+b: A[a]*B[b]}\"\"\"\n",
    "joint(A::ProbDist, B::ProbDist) = ProbDist([\"$k1$k2\"=>v1*v2 for (k1,v1) in A.pdict, (k2,v2) in B.pdict]) #;"
   ]
  },
  {
   "cell_type": "code",
   "execution_count": 55,
   "metadata": {
    "collapsed": false
   },
   "outputs": [],
   "source": [
    "sexes = ProbDist(Dict(\"B\"=>51.5, \"G\"=>48.5)) # Probability distruibution over sexes\n",
    "days  = ProbDist(Dict(\"L\"=>1, \"N\"=>4*365))   # Probability distribution over Leap days and Non-leap days\n",
    "child = joint(sexes, days)                   # Probability distribution for one child family\n",
    "S4    = joint(child, child)                  # Probability distribution for two-child family ;"
   ]
  },
  {
   "cell_type": "markdown",
   "metadata": {},
   "source": [
    "Let's check out the more complex probability distributions:"
   ]
  },
  {
   "cell_type": "code",
   "execution_count": 56,
   "metadata": {
    "collapsed": false
   },
   "outputs": [
    {
     "name": "stdout",
     "output_type": "stream",
     "text": [
      "{BL : 0.00035249828884325804,\n",
      " BN : 0.5146475017111568,\n",
      " GL : 0.0003319644079397673,\n",
      " GN : 0.48466803559206023}\n"
     ]
    }
   ],
   "source": [
    "pprintln(child)"
   ]
  },
  {
   "cell_type": "code",
   "execution_count": 57,
   "metadata": {
    "collapsed": false
   },
   "outputs": [
    {
     "name": "stdout",
     "output_type": "stream",
     "text": [
      "{BLBL : 1.2425504363742498e-7,\n",
      " BLBN : 0.00018141236371064048,\n",
      " BLGL : 1.1701688575563322e-7,\n",
      " BLGN : 0.00017084465320322452,\n",
      " BNBL : 0.00018141236371064048,\n",
      " BNBN : 0.2648620510175351,\n",
      " BNGL : 0.00017084465320322455,\n",
      " BNGN : 0.24943319367670783,\n",
      " GLBL : 1.1701688575563322e-7,\n",
      " GLBN : 0.00017084465320322455,\n",
      " GLGL : 1.1020036813880022e-7,\n",
      " GLGN : 0.00016089253748264833,\n",
      " GNBL : 0.00017084465320322452,\n",
      " GNBN : 0.24943319367670783,\n",
      " GNGL : 0.00016089253748264833,\n",
      " GNGN : 0.23490310472466655}\n"
     ]
    }
   ],
   "source": [
    "pprintln(S4)"
   ]
  },
  {
   "cell_type": "markdown",
   "metadata": {},
   "source": [
    "And we can solve the problem:"
   ]
  },
  {
   "cell_type": "code",
   "execution_count": 58,
   "metadata": {
    "collapsed": false
   },
   "outputs": [
    {
     "data": {
      "text/plain": [
       "0.5149145040963757"
      ]
     },
     "execution_count": 58,
     "metadata": {},
     "output_type": "execute_result"
    }
   ],
   "source": [
    "# Problem 4\n",
    "P(two_boys, such_that(T(\"BL\"), S4))"
   ]
  },
  {
   "cell_type": "markdown",
   "metadata": {},
   "source": [
    "## Simulation\n",
    "\n",
    "Sometimes it is inconvenient to explicitly define a sample space. Perhaps the sample space is infinite, or perhaps it is just very large and complicated, and we feel more confident in writing a program to *simulate* the situation, rather than one to *enumerate* the complete sample space. *Sampling* from the simulation can give an accurate estimate of the probability.\n",
    "\n",
    "For example, here's a simulation of the Monty Hall problem. Given a boolean input saying whether the contestent wants to switch doors or not, the function monty(switch) returns True iff the contestant picks the car."
   ]
  },
  {
   "cell_type": "code",
   "execution_count": 59,
   "metadata": {
    "collapsed": false
   },
   "outputs": [],
   "source": [
    "\"\"\"Simulate this sequence of events:\n",
    "- The host randomly chooses a door for the 'car'\n",
    "- The contestant randomly makes a 'pick' of one of the doors\n",
    "- The host randomly selects a valid door to be 'opened.' \n",
    "- If 'switch' is True, contestant changes 'pick' to the other door\n",
    "Return true if the pick is the door with the car.\"\"\"\n",
    "function monty(switch=true)\n",
    "    doors  = [1, 2, 3]\n",
    "    car    = rand(doors)\n",
    "    pick   = rand(doors)\n",
    "    opened = rand(setdiff(doors,[car,pick]))\n",
    "    if switch\n",
    "        pick = first(setdiff(doors,[pick,opened]))\n",
    "    end\n",
    "    return (pick == car)\n",
    "end #;"
   ]
  },
  {
   "cell_type": "markdown",
   "metadata": {},
   "source": [
    "We can confirm that the contestant wins about 2/3 of the time with the `switch` strategy, and only wins about 1/3 of the time when not switching:"
   ]
  },
  {
   "cell_type": "code",
   "execution_count": 60,
   "metadata": {
    "collapsed": false
   },
   "outputs": [
    {
     "name": "stdout",
     "output_type": "stream",
     "text": [
      "{false : 33367,\n",
      " true : 66633}\n"
     ]
    }
   ],
   "source": [
    "cc = counter([monty(true) for i=1:100_000])\n",
    "pprintln(keysorted(cc))"
   ]
  },
  {
   "cell_type": "code",
   "execution_count": 61,
   "metadata": {
    "collapsed": false
   },
   "outputs": [
    {
     "name": "stdout",
     "output_type": "stream",
     "text": [
      "{false : 66526,\n",
      " true : 33474}\n"
     ]
    }
   ],
   "source": [
    "cc = counter([monty(false) for i=1:100_000])\n",
    "pprintln(keysorted(cc))"
   ]
  },
  {
   "cell_type": "markdown",
   "metadata": {},
   "source": [
    "[ *J.T.*: The preceding counters could have been coded otherwise:\n",
    "\n",
    "1. `[monty(true) for i=1:100_000] |> counter |> keysorted |> pprintln`\n",
    "2. `cc = counter(Bool); for i=1:100_000 push!(cc,monty(true)) ; end ; pprintln(keysorted(cc))`\n",
    "\n",
    "Option (1) being more compact with the (trendy?) piping operator, while option (2) is faster and allocates less memory. Coding is an art of compromise ]."
   ]
  },
  {
   "cell_type": "markdown",
   "metadata": {},
   "source": [
    "## Simulating Monopoly\n",
    "\n",
    "Here's an example where simulation seems to be much easier than enumeration: [problem 84](https://projecteuler.net/problem=84) from the excellent [Project Euler](https://projecteuler.net/) asks the reader to simulate the game of Monopoly for a single player, and report on the probability of the \n",
    "player ending a roll on each of the squares on the board. The simulation takes into account die rolls, chance and community chest cards, and going to jail (from the \"go to jail\" space, from a card, or from rolling doubles three times in a row). The simulation does not take into account anything about buying or selling properties or exchanging money or winning or losing the game."
   ]
  },
  {
   "cell_type": "code",
   "execution_count": 62,
   "metadata": {
    "collapsed": false
   },
   "outputs": [],
   "source": [
    "# The board: a list of the names of the 40 squares\n",
    "board = split(\"\"\"GO   A1 CC1 A2  T1 R1 B1  CH1 B2 B3\n",
    "                 JAIL C1 U1  C2  C3 R2 D1  CC2 D2 D3 \n",
    "                 FP   E1 CH2 E2  E3 R3 F1  F2  U2 F3 \n",
    "                 G2J  G1 G2  CC3 G3 R4 CH3 H1  T2 H2\"\"\")\n",
    "\n",
    "# The deck of 16 community chest cards. See do_card.\n",
    "CC = split(\"GO JAIL\"*\" ?\"^14)\n",
    "\n",
    "# The deck of 16 chance cards. See do_card.\n",
    "CH = split(\"GO JAIL C1 E3 H2 R1 R R U -3\"*\" ?\"^6)\n",
    "\n",
    "\"Simulate given number of steps of monopoly game, producing the name of the current square after each step.\"\n",
    "function monopoly(steps::Int = 10)\n",
    "    global here\n",
    "    here = 1\n",
    "    shuffle!(CC)\n",
    "    shuffle!(CH)\n",
    "    doubles = 0\n",
    "    function _monopoly()\n",
    "        for t=1:steps\n",
    "            d1, d2 = rand(1:6,2)\n",
    "            goto(here + d1 + d2)\n",
    "            doubles = d1==d2 ? doubles+1 : 0\n",
    "            if doubles == 3 || board[here] == \"G2J\"  \n",
    "                goto(\"JAIL\")\n",
    "            elseif startswith(board[here],\"CC\")\n",
    "                do_card(CC)\n",
    "            elseif startswith(board[here],\"CH\")\n",
    "                do_card(CH)\n",
    "            end\n",
    "            produce(board[here])\n",
    "        end\n",
    "    end\n",
    "    return Task(_monopoly)\n",
    "end\n",
    "\n",
    "\"Go to destination square, which can be either a square number or a square name. Update 'here'.\"\n",
    "function goto(square)\n",
    "    global here\n",
    "    if isa(square,Integer)\n",
    "        here = mod(square-1,length(board))+1\n",
    "    else\n",
    "        here = findfirst(board,square)\n",
    "    end\n",
    "end\n",
    "\n",
    "\"Take the top card from deck and do what it says.\"\n",
    "function do_card(deck)\n",
    "    global here\n",
    "    card = shift!(deck)      # Remove card from deck\n",
    "    push!(deck,card)         # Put card back on bottom of deck\n",
    "    if card == \"R\" || card == \"U\" \n",
    "        while !startswith(board[here],card)\n",
    "            goto(here + 1)   # Advance to next railroad or utility\n",
    "        end\n",
    "    elseif card == \"-3\"\n",
    "        goto(here - 3)       # Go back 3 spaces\n",
    "    elseif card == \"?\"\n",
    "        nothing              # Card is about money, not about movement\n",
    "    else\n",
    "        goto(card)           # Go to destination named on card\n",
    "    end\n",
    "end;"
   ]
  },
  {
   "cell_type": "markdown",
   "metadata": {},
   "source": [
    "Let's run the simulation for 100,000 dice rolls, and then plot the counts for each square, and a sorted list of the counts."
   ]
  },
  {
   "cell_type": "code",
   "execution_count": 63,
   "metadata": {
    "collapsed": false
   },
   "outputs": [
    {
     "data": {
      "image/png": "[encoded data removed]",
      "text/plain": [
       "PyPlot.Figure(PyObject <matplotlib.figure.Figure object at 0x7f38f9efc7b8>)"
      ]
     },
     "metadata": {},
     "output_type": "display_data"
    }
   ],
   "source": [
    "results = collect(monopoly(100_000))\n",
    "\n",
    "figure(figsize=(5,3))\n",
    "PyPlot.plt[:hist]([findfirst(board,x)-1 for x in results],40) #;"
   ]
  },
  {
   "cell_type": "code",
   "execution_count": 64,
   "metadata": {
    "collapsed": false
   },
   "outputs": [
    {
     "name": "stdout",
     "output_type": "stream",
     "text": [
      "{JAIL : 6248,\n",
      " E3 : 3241,\n",
      " D3 : 3126,\n",
      " R3 : 3050,\n",
      " GO : 3024,\n",
      " FP : 2927,\n",
      " D2 : 2910,\n",
      " R2 : 2897,\n",
      " R1 : 2896,\n",
      " U2 : 2871,\n",
      " F1 : 2811,\n",
      " D1 : 2803,\n",
      " E1 : 2784,\n",
      " H2 : 2713,\n",
      " E2 : 2689,\n",
      " CC2 : 2684,\n",
      " C1 : 2670,\n",
      " G1 : 2637,\n",
      " U1 : 2582,\n",
      " F2 : 2575,\n",
      " F3 : 2572,\n",
      " G2 : 2563,\n",
      " C3 : 2506,\n",
      " G3 : 2480,\n",
      " R4 : 2467,\n",
      " CC3 : 2429,\n",
      " B3 : 2361,\n",
      " B2 : 2338,\n",
      " C2 : 2334,\n",
      " T1 : 2270,\n",
      " B1 : 2254,\n",
      " H1 : 2209,\n",
      " A1 : 2170,\n",
      " A2 : 2167,\n",
      " T2 : 2076,\n",
      " CC1 : 1930,\n",
      " CH2 : 1023,\n",
      " CH1 : 880,\n",
      " CH3 : 833}\n"
     ]
    }
   ],
   "source": [
    "cc = counter(results)\n",
    "\n",
    "pprintln(valuesorted(cc))"
   ]
  },
  {
   "cell_type": "markdown",
   "metadata": {},
   "source": [
    "We can see that `JAIL` is by far the most popular square (at a little over 6%), and that the three least popular squares (around 1%) are the three chance squares, `CH1`, `CH2`, and `CH3` (because 10 of the 16 chance cards send the player away from the square). The other squares are pretty evenly distributed at 2% to 3% each.\n",
    "\n",
    "## Type-y Monopoly\n",
    "\n",
    "Some people might think that the \"`global here`\" is bad style. One way to eliminate global variables is to pack them up into types. We can do that by making a `Monopoly` type. My personal preference would be that the \"`global here`\" declarations add less visual clutter than the 26 instances of '`game.`' needed for the type definition, but I present this refactored version for those who prefer it."
   ]
  },
  {
   "cell_type": "code",
   "execution_count": 65,
   "metadata": {
    "collapsed": false
   },
   "outputs": [
    {
     "name": "stdout",
     "output_type": "stream",
     "text": [
      "{JAIL : 6178,\n",
      " E3 : 3255,\n",
      " R3 : 3118,\n",
      " GO : 3115,\n",
      " D3 : 3109,\n",
      " R2 : 2958,\n",
      " R1 : 2951,\n",
      " D1 : 2920,\n",
      " D2 : 2911,\n",
      " FP : 2875,\n",
      " E1 : 2786,\n",
      " F1 : 2756,\n",
      " U2 : 2748,\n",
      " C1 : 2698,\n",
      " G1 : 2698,\n",
      " U1 : 2655,\n",
      " E2 : 2647,\n",
      " G2 : 2635,\n",
      " H2 : 2613,\n",
      " F2 : 2596,\n",
      " F3 : 2565,\n",
      " CC2 : 2500,\n",
      " G3 : 2461,\n",
      " R4 : 2441,\n",
      " C3 : 2436,\n",
      " CC3 : 2409,\n",
      " B3 : 2353,\n",
      " C2 : 2329,\n",
      " B2 : 2302,\n",
      " A2 : 2251,\n",
      " T1 : 2236,\n",
      " B1 : 2234,\n",
      " T2 : 2223,\n",
      " H1 : 2202,\n",
      " A1 : 2070,\n",
      " CC1 : 1940,\n",
      " CH2 : 1052,\n",
      " CH1 : 887,\n",
      " CH3 : 887}\n"
     ]
    }
   ],
   "source": [
    "type Monopoly\n",
    "    board::Vector{ASCIIString}\n",
    "    CC::Vector{ASCIIString}\n",
    "    CH::Vector{ASCIIString}\n",
    "    here::Int\n",
    "    square_counter::Accumulator{ASCIIString,Int}\n",
    "\n",
    "    \"Initialize the Monopoly game.\"\n",
    "    function Monopoly() \n",
    "        board = split(\"\"\"GO   A1 CC1 A2  T1 R1 B1  CH1 B2 B3\n",
    "                         JAIL C1 U1  C2  C3 R2 D1  CC2 D2 D3 \n",
    "                         FP   E1 CH2 E2  E3 R3 F1  F2  U2 F3 \n",
    "                         G2J  G1 G2  CC3 G3 R4 CH3 H1  T2 H2\"\"\")\n",
    "        CC = split(\"GO JAIL\"*\" ?\"^14)\n",
    "        CH = split(\"GO JAIL C1 E3 H2 R1 R R U -3\"*\" ?\"^6)\n",
    "        shuffle!(CC)\n",
    "        shuffle!(CH)\n",
    "        here = 1\n",
    "        square_counter = counter(ASCIIString)\n",
    "        new(board, CC, CH, here, square_counter)\n",
    "    end\n",
    "end\n",
    "\n",
    "\"\"\"Simulate given number of steps of monopoly game, incrementing counter \n",
    "for current square after each step. Return a dictionary of (square, count) pairs.\"\"\"\n",
    "function simulate(game::Monopoly, steps::Int)\n",
    "    doubles = 0\n",
    "    for step=1:steps\n",
    "        d1, d2 = rand(1:6,2)\n",
    "        game.here = goto(game,game.here + d1 + d2)\n",
    "        doubles = d1==d2 ? doubles+1 : 0\n",
    "        if doubles == 3 || game.board[game.here] == \"G2J\"  \n",
    "            game.here = goto(game,\"JAIL\")\n",
    "        elseif startswith(game.board[game.here],\"CC\")\n",
    "            do_card(game,game.CC)\n",
    "        elseif startswith(game.board[game.here],\"CH\")\n",
    "            do_card(game,game.CH)\n",
    "        end\n",
    "        push!(game.square_counter,game.board[game.here])\n",
    "    end\n",
    "    return game.square_counter\n",
    "end\n",
    "\n",
    "\"Go to destination square, which can be either a square number or a square name.\"\n",
    "goto(game::Monopoly, square) = isa(square,Int) ? mod(square-1,length(game.board))+1 : findfirst(game.board,square)\n",
    "\n",
    "\"Take the top card from deck and do what it says.\"\n",
    "function do_card(game::Monopoly, deck)\n",
    "    card = shift!(deck)                # Remove card from deck\n",
    "    push!(deck,card)               # Put card back on bottom of deck\n",
    "    if card == \"R\" || card == \"U\"\n",
    "        while !startswith(game.board[game.here],card)\n",
    "            game.here = goto(game,game.here+1) # Advance to next railroad or utility\n",
    "        end\n",
    "    elseif card == \"-3\"\n",
    "        game.here = goto(game,game.here-3)     # Go back 3 spaces\n",
    "    elseif card != \"?\"\n",
    "        game.here = goto(game,card)              # Go to a destination\n",
    "    end\n",
    "end\n",
    "        \n",
    "game = Monopoly()\n",
    "pprintln(valuesorted(simulate(game,100_000)))"
   ]
  },
  {
   "cell_type": "markdown",
   "metadata": {},
   "source": [
    "## The St. Petersburg Paradox\n",
    "\n",
    "One more famous paradox: The [St. Petersburg paradox](https://en.wikipedia.org/wiki/St._Petersburg_paradox) from 1713, named for the home town of the [Bernoulli brothers](http://www.storyofmathematics.com/18th_bernoulli.html):\n",
    "\n",
    "> A casino offers a game of chance for a single player in which a fair coin is tossed at each stage. The pot starts at 2 dollars and is doubled every time a head appears. The first time a tail appears, the game ends and the player wins whatever is in the pot. Thus the player wins 2 dollars if a tail appears on the first toss, 4 dollars if a head appears on the first toss and a tail on the second, etc. What is the expected value of this game to the player?\n",
    "\n",
    "To calculate the expected value, we see there is a 1/2 chance of a tail on the first toss (yielding a pot of \\$2) and if not that, a 1/2 &times; 1/2 = 1/4 chance of a tail on the second toss (yielding a pot of \\$4), and so on. So in total, the expected value is:\n",
    "\n",
    "$$ \\frac{1}{2}\\cdot 2 + \\frac{1}{4}\\cdot 4 + \\frac{1}{8} \\cdot 8 + \\frac{1}{16} \\cdot 16 + \\cdots = 1+1+1+1+\\cdots = \\infty$$\n",
    "\n",
    "The expected value is infinite! But anyone playing the game would not expect to win an infinite amount; thus the paradox.\n",
    "\n",
    "### Response 1: Limited Resources\n",
    "\n",
    "The first major response to the paradox is that the casino's resources are limited. Once you break their bank, they can't pay out any more, and thus the expected return is finite. Let's model that by creating a probability distribution for the problem with a limited bank. We keep doubling the pot and halving the probability of winning the amount in the pot (half because you get the pot on a tail but not a head), until we reach the limit:"
   ]
  },
  {
   "cell_type": "code",
   "execution_count": 66,
   "metadata": {
    "collapsed": false
   },
   "outputs": [
    {
     "name": "stdout",
     "output_type": "stream",
     "text": [
      "{2 : 0.5,\n",
      " 4 : 0.25,\n",
      " 8 : 0.125,\n",
      " 16 : 0.0625,\n",
      " 32 : 0.03125,\n",
      " 64 : 0.015625,\n",
      " 128 : 0.0078125,\n",
      " 256 : 0.00390625,\n",
      " 512 : 0.001953125,\n",
      " 1024 : 0.0009765625,\n",
      " 2048 : 0.00048828125,\n",
      " 4096 : 0.000244140625,\n",
      " 8192 : 0.0001220703125,\n",
      " 16384 : 6.103515625e-5,\n",
      " 32768 : 3.0517578125e-5,\n",
      " 65536 : 1.52587890625e-5,\n",
      " 131072 : 7.62939453125e-6,\n",
      " 262144 : 3.814697265625e-6,\n",
      " 524288 : 1.9073486328125e-6,\n",
      " 1048576 : 9.5367431640625e-7,\n",
      " 2097152 : 4.76837158203125e-7,\n",
      " 4194304 : 2.384185791015625e-7,\n",
      " 8388608 : 1.1920928955078125e-7,\n",
      " 16777216 : 5.960464477539063e-8,\n",
      " 33554432 : 2.9802322387695312e-8,\n",
      " 67108864 : 1.4901161193847656e-8,\n",
      " 134217728 : 7.450580596923828e-9,\n",
      " 268435456 : 3.725290298461914e-9,\n",
      " 536870912 : 1.862645149230957e-9,\n",
      " 1000000000 : 1.862645149230957e-9}\n"
     ]
    }
   ],
   "source": [
    "\"Return the probability distribution for the St. Petersburg Paradox with a limited bank.\"\n",
    "function st_pete(limit)\n",
    "    P = Dict{Int,Real}()    # The probability distribution\n",
    "    pot = 2                 # Amount of money in the pot\n",
    "    pr  = 0.5               # Probability that you end up with the amount in pot\n",
    "    while pot < limit\n",
    "        P[pot] = pr\n",
    "        pot, pr = 2*pot, 0.5*pr\n",
    "    end\n",
    "    P[limit] = 2pr                  # pr * 2 because you get limit for heads or tails\n",
    "    assert(sum(values(P)) == 1.0)   # should notice rounding errors in these sums!\n",
    "    return P\n",
    "end\n",
    "    \n",
    "StP = keysorted(st_pete(10^9))\n",
    "pprintln(StP)"
   ]
  },
  {
   "cell_type": "markdown",
   "metadata": {},
   "source": [
    "Now we define the function `EV` to compute the [expected value](https://en.wikipedia.org/wiki/Expected_value) of the (limited) St. Petersburg probability distribution:"
   ]
  },
  {
   "cell_type": "code",
   "execution_count": 67,
   "metadata": {
    "collapsed": false
   },
   "outputs": [],
   "source": [
    "\"The expected value of a probability distribution.\"\n",
    "EV(P) = sum([value*prob for (value,prob) in P]);"
   ]
  },
  {
   "cell_type": "code",
   "execution_count": 68,
   "metadata": {
    "collapsed": false
   },
   "outputs": [
    {
     "data": {
      "text/plain": [
       "30.862645149230957"
      ]
     },
     "execution_count": 68,
     "metadata": {},
     "output_type": "execute_result"
    }
   ],
   "source": [
    "EV(StP)"
   ]
  },
  {
   "cell_type": "markdown",
   "metadata": {},
   "source": [
    "This says that for a casino with a bankroll of a billion dollars, you should be willing to pay \\$30.86 to play the game. Would you pay that much? I wouldn't, and neither would Daniel Bernoulli.\n",
    "\n",
    "## Response 2: Value of Money\n",
    "\n",
    "Bernoulli came up with a second response to the paradox based on the idea that if you have a lot of money, then additional money becomes less valuable to you. How much less valuable? Bernoulli proposed, and experiments confirm, that the value of money is roughly logarithmic. The idea is that if I had very little money, and I won \\$1000, I would be very happy. But if I already had a million dollars and I won \\$1000, it would make less difference to me; the \\$1000 would be less valuable.\n",
    "\n",
    "I'll write the function `util` to describe what a dollar amount is worth to a hypothetical gambler. `util` says that a dollar is worth a dollar, until the amount is \"enough\" money. After that point, each additional dollar is worth half as much (only brings half as much happiness). Value keeps accumulating at this rate until we reach the next threshold of \"enough,\" when the utility of additional dollars is halfed again. The exact details of `util` are not critical; what matters is that overall money becomes less valuable after we have won a lot of it."
   ]
  },
  {
   "cell_type": "code",
   "execution_count": 69,
   "metadata": {
    "collapsed": false
   },
   "outputs": [],
   "source": [
    "\"The value of money: only half as valuable after you already have enough.\"\n",
    "util(dollars, enough=1000) = dollars < enough ? dollars : enough+util((dollars-enough)/2, enough*2) #;"
   ]
  },
  {
   "cell_type": "markdown",
   "metadata": {},
   "source": [
    "A table and a plot will give a feel for the util function. Notice the characterisitc concave-down shape of the plot."
   ]
  },
  {
   "cell_type": "code",
   "execution_count": 70,
   "metadata": {
    "collapsed": false
   },
   "outputs": [
    {
     "name": "stdout",
     "output_type": "stream",
     "text": [
      "            100 $ =             100 util\n",
      "          1,000 $ =           1,000 util\n",
      "         10,000 $ =           4,250 util\n",
      "        100,000 $ =          15,937 util\n",
      "      1,000,000 $ =          51,593 util\n",
      "     10,000,000 $ =         162,460 util\n",
      "    100,000,000 $ =         535,646 util\n",
      "  1,000,000,000 $ =       1,658,229 util\n"
     ]
    }
   ],
   "source": [
    "for d in 2:9\n",
    "    println(\"$(format(10^d,width=15,commas=true)) \\$ = $(format(floor(Int,util(10^d)),width=15,commas=true)) util\")\n",
    "end"
   ]
  },
  {
   "cell_type": "code",
   "execution_count": 71,
   "metadata": {
    "collapsed": false
   },
   "outputs": [
    {
     "data": {
      "image/png": "[encoded data removed]",
      "text/plain": [
       "PyPlot.Figure(PyObject <matplotlib.figure.Figure object at 0x7f390bfd38d0>)"
      ]
     },
     "metadata": {},
     "output_type": "display_data"
    }
   ],
   "source": [
    "figure(figsize=(5,3))\n",
    "PyPlot.plt[:plot]([util(x) for x in 1000:1000:10_000_000])\n",
    "PyPlot.xlabel(\"thousands of dollars\")\n",
    "PyPlot.ylabel(\"util(x)\") #;"
   ]
  },
  {
   "cell_type": "markdown",
   "metadata": {},
   "source": [
    "Now I will define the function `EU`, which computes the [expected utility](http://wiki.lesswrong.com/wiki/Expected_utility) of the game:"
   ]
  },
  {
   "cell_type": "code",
   "execution_count": 72,
   "metadata": {
    "collapsed": false
   },
   "outputs": [],
   "source": [
    "\"The expected utility of a probability distribution, given a utility function.\"\n",
    "EU(P, U) = sum([prob*util(amount) for (amount,prob) in P]);"
   ]
  },
  {
   "cell_type": "code",
   "execution_count": 73,
   "metadata": {
    "collapsed": false
   },
   "outputs": [
    {
     "data": {
      "text/plain": [
       "13.101970414893003"
      ]
     },
     "execution_count": 73,
     "metadata": {},
     "output_type": "execute_result"
    }
   ],
   "source": [
    "EU(StP, util)"
   ]
  },
  {
   "cell_type": "markdown",
   "metadata": {},
   "source": [
    "That says we should pay up to \\$13.10 to play the game, which sounds more reasonable than \\$30.86.\n",
    "\n",
    "# Understanding the St. Petersburg Problem Better through Simulation\n",
    "\n",
    "Before I plunk down my \\$13, I'd like to understand the game better. I'll write a simulation of the game:"
   ]
  },
  {
   "cell_type": "code",
   "execution_count": 74,
   "metadata": {
    "collapsed": false
   },
   "outputs": [],
   "source": [
    "flip() = rand([\"head\", \"tail\"])\n",
    "\n",
    "\"Simulate one round of the St. Petersburg game, and return the payoff.\"\n",
    "function simulate_st_pete(limit=10^9)\n",
    "    pot = 2\n",
    "    while flip() == \"head\"\n",
    "        pot = 2 * pot\n",
    "        if pot > limit return limit; end\n",
    "    end\n",
    "    return pot\n",
    "end;"
   ]
  },
  {
   "cell_type": "markdown",
   "metadata": {},
   "source": [
    "I will run the simulation 100,000 times (with a random seed specified for reproducability) and make the results into a probability distribution:"
   ]
  },
  {
   "cell_type": "code",
   "execution_count": 75,
   "metadata": {
    "collapsed": false
   },
   "outputs": [
    {
     "name": "stdout",
     "output_type": "stream",
     "text": [
      "{2 : 0.50021,\n",
      " 4 : 0.24995,\n",
      " 8 : 0.12632,\n",
      " 16 : 0.06167,\n",
      " 32 : 0.03038,\n",
      " 64 : 0.01543,\n",
      " 128 : 0.00845,\n",
      " 256 : 0.00376,\n",
      " 512 : 0.00191,\n",
      " 1024 : 0.00085,\n",
      " 2048 : 0.00053,\n",
      " 4096 : 0.00027,\n",
      " 8192 : 0.00015,\n",
      " 16384 : 4.0e-5,\n",
      " 32768 : 4.0e-5,\n",
      " 65536 : 1.0e-5,\n",
      " 131072 : 3.0e-5}\n"
     ]
    }
   ],
   "source": [
    "srand(1234)\n",
    "\n",
    "results = keysorted(normalize(countmap([simulate_st_pete() for i=1:100_000])))\n",
    "pprintln(results)"
   ]
  },
  {
   "cell_type": "code",
   "execution_count": 76,
   "metadata": {
    "collapsed": false
   },
   "outputs": [
    {
     "data": {
      "text/plain": [
       "13.139574999999999"
      ]
     },
     "execution_count": 76,
     "metadata": {},
     "output_type": "execute_result"
    }
   ],
   "source": [
    "EU(results, util) "
   ]
  },
  {
   "cell_type": "markdown",
   "metadata": {},
   "source": [
    "The results are about what you would expect: about half the pots are 2, a quarter are 4, and higher pots are more and more unlikely. The expected utility was just a little bit more than the theoretical expected utility (13.14 vs. 13.10)."
   ]
  },
  {
   "cell_type": "code",
   "execution_count": 77,
   "metadata": {
    "collapsed": false
   },
   "outputs": [
    {
     "data": {
      "text/plain": [
       "19.823420000000002"
      ]
     },
     "execution_count": 77,
     "metadata": {},
     "output_type": "execute_result"
    }
   ],
   "source": [
    "EV(results)"
   ]
  },
  {
   "cell_type": "markdown",
   "metadata": {},
   "source": [
    "The expected value (19.82...) is only about half the theoretical expected value (30.86). Why should there be such a big difference? I think the answer is *variance*. If I averaged an infinite number of rounds I would get 30.86, but if I can only average a finite number, most of the time I will get a result less than 30.86, and a very small number of times I will get an average very much larger than 30.86, because the round happened to include a very big (but very rare) pot.\n",
    "\n",
    "To see better how things unfold, I will define a function to plot the running average of repeated rounds:"
   ]
  },
  {
   "cell_type": "markdown",
   "metadata": {},
   "source": [
    "[ *J.T.*: The original Python used a *generator* function in the next code block. The direct Julia equivalent is a *Task*, which is used here. But the code is less clear, and a different version could make use of Julia's parametric functions. Yet another version, could be simpler to read, and faster, but longer. They are listed in comments ]."
   ]
  },
  {
   "cell_type": "code",
   "execution_count": 78,
   "metadata": {
    "collapsed": false
   },
   "outputs": [],
   "source": [
    "\"For each element in the iterable, yield the mean of all elements seen so far.\" \n",
    "function running_averages(iterable)\n",
    "    total, n = 0, 0\n",
    "    function _running_averages()\n",
    "        for x in iterable\n",
    "            total, n = total + convert(Int64,x), n + 1\n",
    "            produce(total / n)\n",
    "        end\n",
    "    end\n",
    "    return Task(_running_averages)\n",
    "end\n",
    "\n",
    "\"Collect the running average of calling the function n times.\"\n",
    "collect_running_averages(fn, n) = convert(Vector{Float64},collect(running_averages(repeatedly(fn,n))));\n",
    "\n",
    "# \"alternative version 1: uses a parametric type argument to cast function result to a summable value for `cumsum`  \n",
    "# collect_running_averages{T<:Real}(fv,::Type{T},n) = cumsum([convert(T,simulate_st_pete()) for i=1:n])./collect(1:n)\n",
    "\n",
    "# \"alternative version 2: longer code, but simpler and faster and allocates less memory\"\n",
    "# function collect_running_averages(n::Int) \n",
    "#     total = 0\n",
    "#     res = Array(Float64,n)\n",
    "#     for i=1:n\n",
    "#         total += simulate_st_pete()\n",
    "#         res[i] = total/i\n",
    "#     end\n",
    "#     return res\n",
    "# end ;"
   ]
  },
  {
   "cell_type": "markdown",
   "metadata": {},
   "source": [
    "Let's do 10 repetitions of plotting 100,000 rounds each repetition:"
   ]
  },
  {
   "cell_type": "code",
   "execution_count": 79,
   "metadata": {
    "collapsed": false
   },
   "outputs": [
    {
     "data": {
      "image/png": "[encoded data removed]",
      "text/plain": [
       "PyPlot.Figure(PyObject <matplotlib.figure.Figure object at 0x7f390be460b8>)"
      ]
     },
     "metadata": {},
     "output_type": "display_data"
    }
   ],
   "source": [
    "srand(hash(\"julia\"))\n",
    "\n",
    "figure(figsize=(5,3))\n",
    "for i=1:10\n",
    "    PyPlot.plt[:plot](collect_running_averages(simulate_st_pete, 100_000))\n",
    "end #;"
   ]
  },
  {
   "cell_type": "markdown",
   "metadata": {},
   "source": [
    "What can we see from this? Nine of the 10 repetitions have a final average payoff between \\$10 and \\$35. So a price around \\$13 still seems reasonable. One outlier has an average payoff just over \\$50, so if you are feeling lucky you might be willing to pay some amount between \\$13 and \\$30.\n",
    "\n",
    "## Conclusion\n",
    "\n",
    "We've seen how to manage probability paradoxes. Just be explicit about what the problem says, and then methodical about defining the sample space, and finally be careful in counting the number of outcomes in the numerator and denominator. Easy as 1-2-3. But the bigger lesson is: treat those around you as reasonable people, and when they have different opinons, try to discover what problem they are solving."
   ]
  },
  {
   "cell_type": "markdown",
   "metadata": {},
   "source": [
    "#### Addendum\n",
    "\n",
    "The Julia Translator (Dan Getz) thanks Peter Norvig for the original Notebook and the Julia community.\n",
    "<div style=\"text-align: right\">10 Oct 2015</div>"
   ]
  }
 ],
 "metadata": {
  "kernelspec": {
   "display_name": "Julia 0.4.1-pre",
   "language": "julia",
   "name": "julia-0.4"
  },
  "language_info": {
   "file_extension": ".jl",
   "mimetype": "application/julia",
   "name": "julia",
   "version": "0.4.1"
  }
 },
 "nbformat": 4,
 "nbformat_minor": 0
}
